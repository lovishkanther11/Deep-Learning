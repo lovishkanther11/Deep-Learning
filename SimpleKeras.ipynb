{
  "nbformat": 4,
  "nbformat_minor": 0,
  "metadata": {
    "colab": {
      "name": "SimpleKeras.ipynb",
      "provenance": [],
      "collapsed_sections": [],
      "include_colab_link": true
    },
    "kernelspec": {
      "name": "python3",
      "display_name": "Python 3"
    },
    "accelerator": "GPU"
  },
  "cells": [
    {
      "cell_type": "markdown",
      "metadata": {
        "id": "view-in-github",
        "colab_type": "text"
      },
      "source": [
        "<a href=\"https://colab.research.google.com/github/lovishkanther11/Deep-Learning/blob/master/SimpleKeras.ipynb\" target=\"_parent\"><img src=\"https://colab.research.google.com/assets/colab-badge.svg\" alt=\"Open In Colab\"/></a>"
      ]
    },
    {
      "cell_type": "markdown",
      "metadata": {
        "id": "-LPdeJnLbhP5",
        "colab_type": "text"
      },
      "source": [
        "# Keras package in Python\n",
        "\n",
        "Keras is a high-level neural networks API, written in Python and capable of running on top of TensorFlow, CNTK, or Theano. It was developed with a focus on enabling fast experimentation. Being able to go from idea to result with the least possible delay is key to doing good research.\n",
        "\n",
        "Use Keras if you need a deep learning library that:\n",
        "\n",
        "Allows for easy and fast prototyping (through user friendliness, modularity, and extensibility).\n",
        "Supports both convolutional networks and recurrent networks, as well as combinations of the two.\n",
        "Runs seamlessly on CPU and GPU.\n",
        "Read the documentation at Keras.io.\n",
        "\n",
        "Keras is compatible with: Python 2.7-3.6."
      ]
    },
    {
      "cell_type": "markdown",
      "metadata": {
        "id": "j5qa9OtRbyqO",
        "colab_type": "text"
      },
      "source": [
        "The core data structure of Keras is a **model**, a way to organize layers. The simplest type of model is the Sequential model, a linear stack of layers. For more complex architectures, you should use the Keras functional API, which allows to build arbitrary graphs of layers."
      ]
    },
    {
      "cell_type": "code",
      "metadata": {
        "id": "F6zlphu1bZIC",
        "colab_type": "code",
        "outputId": "6dac1f71-5030-417b-a897-0ec975daa4f4",
        "colab": {
          "base_uri": "https://localhost:8080/",
          "height": 203
        }
      },
      "source": [
        "#Here is the Sequential model:\n",
        "\n",
        "from keras.models import Sequential\n",
        "\n",
        "model = Sequential()"
      ],
      "execution_count": 0,
      "outputs": [
        {
          "output_type": "stream",
          "text": [
            "Using TensorFlow backend.\n"
          ],
          "name": "stderr"
        },
        {
          "output_type": "display_data",
          "data": {
            "text/html": [
              "<p style=\"color: red;\">\n",
              "The default version of TensorFlow in Colab will soon switch to TensorFlow 2.x.<br>\n",
              "We recommend you <a href=\"https://www.tensorflow.org/guide/migrate\" target=\"_blank\">upgrade</a> now \n",
              "or ensure your notebook will continue to use TensorFlow 1.x via the <code>%tensorflow_version 1.x</code> magic:\n",
              "<a href=\"https://colab.research.google.com/notebooks/tensorflow_version.ipynb\" target=\"_blank\">more info</a>.</p>\n"
            ],
            "text/plain": [
              "<IPython.core.display.HTML object>"
            ]
          },
          "metadata": {
            "tags": []
          }
        },
        {
          "output_type": "stream",
          "text": [
            "WARNING:tensorflow:From /usr/local/lib/python3.6/dist-packages/keras/backend/tensorflow_backend.py:66: The name tf.get_default_graph is deprecated. Please use tf.compat.v1.get_default_graph instead.\n",
            "\n"
          ],
          "name": "stdout"
        }
      ]
    },
    {
      "cell_type": "code",
      "metadata": {
        "id": "PHysZQcdcAza",
        "colab_type": "code",
        "outputId": "6ff6340f-271d-4929-9200-f3bbf55d14c9",
        "colab": {
          "base_uri": "https://localhost:8080/",
          "height": 105
        }
      },
      "source": [
        "#Stacking layers is as easy as .add():\n",
        "\n",
        "from keras.layers import Dense\n",
        "\n",
        "model.add(Dense(units=64, activation='relu', input_dim=100))\n",
        "model.add(Dense(units=1, activation='softmax'))"
      ],
      "execution_count": 0,
      "outputs": [
        {
          "output_type": "stream",
          "text": [
            "WARNING:tensorflow:From /usr/local/lib/python3.6/dist-packages/keras/backend/tensorflow_backend.py:541: The name tf.placeholder is deprecated. Please use tf.compat.v1.placeholder instead.\n",
            "\n",
            "WARNING:tensorflow:From /usr/local/lib/python3.6/dist-packages/keras/backend/tensorflow_backend.py:4432: The name tf.random_uniform is deprecated. Please use tf.random.uniform instead.\n",
            "\n"
          ],
          "name": "stdout"
        }
      ]
    },
    {
      "cell_type": "markdown",
      "metadata": {
        "id": "fBcPLRoqd9iH",
        "colab_type": "text"
      },
      "source": [
        "# Compilation\n",
        "\n",
        "Before training a model, you need to configure the learning process, which is done via the compile method. It receives three arguments:\n",
        "\n",
        "An optimizer. This could be the string identifier of an existing optimizer (such as rmsprop or adagrad), or an instance of the Optimizer class. \n",
        "\n",
        "\n",
        "A loss function. This is the objective that the model will try to minimize. It can be the string identifier of an existing loss function (such as categorical_crossentropy or mse), or it can be an objective function. \n",
        "\n",
        "A list of metrics. For any classification problem you will want to set this to metrics=['accuracy']. A metric could be the string identifier of an existing metric or a custom metric function. \n"
      ]
    },
    {
      "cell_type": "code",
      "metadata": {
        "id": "XD6V0BrQcCNh",
        "colab_type": "code",
        "outputId": "96643abc-5313-45af-bd8b-46bf3c4f5e21",
        "colab": {
          "base_uri": "https://localhost:8080/",
          "height": 157
        }
      },
      "source": [
        "#Once your model looks good, configure its learning process with .compile():\n",
        "\n",
        "model.compile(loss='binary_crossentropy', optimizer='sgd', metrics=['accuracy'])"
      ],
      "execution_count": 0,
      "outputs": [
        {
          "output_type": "stream",
          "text": [
            "WARNING:tensorflow:From /usr/local/lib/python3.6/dist-packages/keras/optimizers.py:793: The name tf.train.Optimizer is deprecated. Please use tf.compat.v1.train.Optimizer instead.\n",
            "\n",
            "WARNING:tensorflow:From /usr/local/lib/python3.6/dist-packages/keras/backend/tensorflow_backend.py:3657: The name tf.log is deprecated. Please use tf.math.log instead.\n",
            "\n",
            "WARNING:tensorflow:From /usr/local/lib/python3.6/dist-packages/tensorflow_core/python/ops/nn_impl.py:183: where (from tensorflow.python.ops.array_ops) is deprecated and will be removed in a future version.\n",
            "Instructions for updating:\n",
            "Use tf.where in 2.0, which has the same broadcast rule as np.where\n"
          ],
          "name": "stdout"
        }
      ]
    },
    {
      "cell_type": "markdown",
      "metadata": {
        "id": "XpokwhIudqU7",
        "colab_type": "text"
      },
      "source": [
        "# Specifying the input shape\n",
        "\n",
        "The model needs to know what input shape it should expect. For this reason, the first layer in a Sequential model (and only the first, because following layers can do automatic shape inference) needs to receive information about its input shape. There are several possible ways to do this:\n",
        "\n",
        "Pass an input_shape argument to the first layer. This is a shape tuple (a tuple of integers or None entries, where None indicates that any positive integer may be expected). In input_shape, the batch dimension is not included.\n",
        "\n",
        "Some 2D layers, such as Dense, support the specification of their input shape via the argument input_dim, and some 3D temporal layers support the arguments input_dim and input_length.\n"
      ]
    },
    {
      "cell_type": "code",
      "metadata": {
        "id": "0q7KHVXVd47_",
        "colab_type": "code",
        "colab": {}
      },
      "source": [
        "# Generate dummy data\n",
        "import numpy as np\n",
        "data = np.random.random((1000, 100))\n",
        "labels = np.random.randint(2, size=(1000, 1))"
      ],
      "execution_count": 0,
      "outputs": []
    },
    {
      "cell_type": "code",
      "metadata": {
        "id": "4T2tgwU0e-fX",
        "colab_type": "code",
        "outputId": "b3157225-e18d-4806-b523-4cd5bb853ba4",
        "colab": {
          "base_uri": "https://localhost:8080/",
          "height": 34
        }
      },
      "source": [
        "# Check the shape of inputs\n",
        "data.shape"
      ],
      "execution_count": 0,
      "outputs": [
        {
          "output_type": "execute_result",
          "data": {
            "text/plain": [
              "(1000, 100)"
            ]
          },
          "metadata": {
            "tags": []
          },
          "execution_count": 5
        }
      ]
    },
    {
      "cell_type": "code",
      "metadata": {
        "id": "b7wfi1JJfFtu",
        "colab_type": "code",
        "outputId": "5b816d25-23bf-4db7-8b25-96364518091a",
        "colab": {
          "base_uri": "https://localhost:8080/",
          "height": 34
        }
      },
      "source": [
        "# Check the shape of labels\n",
        "labels.shape"
      ],
      "execution_count": 0,
      "outputs": [
        {
          "output_type": "execute_result",
          "data": {
            "text/plain": [
              "(1000, 1)"
            ]
          },
          "metadata": {
            "tags": []
          },
          "execution_count": 6
        }
      ]
    },
    {
      "cell_type": "markdown",
      "metadata": {
        "id": "yqYljCVFeLBj",
        "colab_type": "text"
      },
      "source": [
        "# Training\n",
        "\n",
        "Keras models are trained on Numpy arrays of input data and labels. For training a model, you will typically use the fit function. "
      ]
    },
    {
      "cell_type": "code",
      "metadata": {
        "id": "ZG96MZWdeP5F",
        "colab_type": "code",
        "outputId": "ff55eabe-d799-4408-e37f-1be481d89e02",
        "colab": {
          "base_uri": "https://localhost:8080/",
          "height": 671
        }
      },
      "source": [
        "# Train the model, iterating on the data in batches of 32 samples\n",
        "model.fit(data, labels, epochs=10, batch_size=32)"
      ],
      "execution_count": 0,
      "outputs": [
        {
          "output_type": "stream",
          "text": [
            "WARNING:tensorflow:From /usr/local/lib/python3.6/dist-packages/keras/backend/tensorflow_backend.py:1033: The name tf.assign_add is deprecated. Please use tf.compat.v1.assign_add instead.\n",
            "\n",
            "WARNING:tensorflow:From /usr/local/lib/python3.6/dist-packages/keras/backend/tensorflow_backend.py:1020: The name tf.assign is deprecated. Please use tf.compat.v1.assign instead.\n",
            "\n",
            "WARNING:tensorflow:From /usr/local/lib/python3.6/dist-packages/keras/backend/tensorflow_backend.py:3005: The name tf.Session is deprecated. Please use tf.compat.v1.Session instead.\n",
            "\n",
            "Epoch 1/10\n",
            "WARNING:tensorflow:From /usr/local/lib/python3.6/dist-packages/keras/backend/tensorflow_backend.py:190: The name tf.get_default_session is deprecated. Please use tf.compat.v1.get_default_session instead.\n",
            "\n",
            "WARNING:tensorflow:From /usr/local/lib/python3.6/dist-packages/keras/backend/tensorflow_backend.py:197: The name tf.ConfigProto is deprecated. Please use tf.compat.v1.ConfigProto instead.\n",
            "\n",
            "WARNING:tensorflow:From /usr/local/lib/python3.6/dist-packages/keras/backend/tensorflow_backend.py:207: The name tf.global_variables is deprecated. Please use tf.compat.v1.global_variables instead.\n",
            "\n",
            "WARNING:tensorflow:From /usr/local/lib/python3.6/dist-packages/keras/backend/tensorflow_backend.py:216: The name tf.is_variable_initialized is deprecated. Please use tf.compat.v1.is_variable_initialized instead.\n",
            "\n",
            "WARNING:tensorflow:From /usr/local/lib/python3.6/dist-packages/keras/backend/tensorflow_backend.py:223: The name tf.variables_initializer is deprecated. Please use tf.compat.v1.variables_initializer instead.\n",
            "\n",
            "1000/1000 [==============================] - 10s 10ms/step - loss: 8.3060 - acc: 0.4790\n",
            "Epoch 2/10\n",
            "1000/1000 [==============================] - 0s 96us/step - loss: 8.3060 - acc: 0.4790\n",
            "Epoch 3/10\n",
            "1000/1000 [==============================] - 0s 93us/step - loss: 8.3060 - acc: 0.4790\n",
            "Epoch 4/10\n",
            "1000/1000 [==============================] - 0s 102us/step - loss: 8.3060 - acc: 0.4790\n",
            "Epoch 5/10\n",
            "1000/1000 [==============================] - 0s 82us/step - loss: 8.3060 - acc: 0.4790\n",
            "Epoch 6/10\n",
            "1000/1000 [==============================] - 0s 79us/step - loss: 8.3060 - acc: 0.4790\n",
            "Epoch 7/10\n",
            "1000/1000 [==============================] - 0s 83us/step - loss: 8.3060 - acc: 0.4790\n",
            "Epoch 8/10\n",
            "1000/1000 [==============================] - 0s 83us/step - loss: 8.3060 - acc: 0.4790\n",
            "Epoch 9/10\n",
            "1000/1000 [==============================] - 0s 88us/step - loss: 8.3060 - acc: 0.4790\n",
            "Epoch 10/10\n",
            "1000/1000 [==============================] - 0s 88us/step - loss: 8.3060 - acc: 0.4790\n"
          ],
          "name": "stdout"
        },
        {
          "output_type": "execute_result",
          "data": {
            "text/plain": [
              "<keras.callbacks.History at 0x7f1da60b3e10>"
            ]
          },
          "metadata": {
            "tags": []
          },
          "execution_count": 7
        }
      ]
    },
    {
      "cell_type": "markdown",
      "metadata": {
        "id": "xUSaXF22foxp",
        "colab_type": "text"
      },
      "source": [
        "# Exercise 1: Build a Sequential model with two layers. \n",
        "\n",
        "Layer 1 is dense with 32 nodes and 'relu' activation function. Input dimension is 100.\n",
        "\n",
        "Layer 2 is dense with 10 nodes and 'softmax' activation function.\n",
        "\n",
        "Compile the model with optimizer 'rmsprop',             loss='categorical_crossentropy' and metrics=['accuracy']\n",
        "\n",
        "\n",
        "Generate dummy data using np.random.random 1000, 100 and dummy labels of 10 categories with size 1000,1\n",
        "\n",
        "\n",
        "## Convert labels to categorical one-hot encoding using below statement\n",
        "from keras.utils import to_categorical\n",
        "one_hot_labels = to_categorical(labels, num_classes=10)\n",
        "\n",
        "Finally, Train the model, iterating on the data in batches of 32 samples\n",
        "\n",
        "\n",
        "\n",
        "\n"
      ]
    },
    {
      "cell_type": "code",
      "metadata": {
        "id": "PvbkQ7pKzO8Q",
        "colab_type": "code",
        "outputId": "f0f5675e-159c-4055-b223-893f3e6d608a",
        "colab": {
          "base_uri": "https://localhost:8080/",
          "height": 397
        }
      },
      "source": [
        "from keras.utils import to_categorical\n",
        "model = Sequential()\n",
        "model.add(Dense(32, activation='relu', input_dim=100))\n",
        "model.add(Dense(10, activation='softmax'))\n",
        "model.compile(optimizer='rmsprop',\n",
        "              loss='categorical_crossentropy',\n",
        "              metrics=['accuracy'])\n",
        "\n",
        "import numpy as np\n",
        "data = np.random.random((1000, 100))\n",
        "labels = np.random.randint(10, size=(1000, 1))\n",
        "\n",
        "one_hot_labels = to_categorical(labels, num_classes=10)\n",
        "\n",
        "model.fit(data, one_hot_labels, epochs=10, batch_size=32)"
      ],
      "execution_count": 0,
      "outputs": [
        {
          "output_type": "stream",
          "text": [
            "Epoch 1/10\n",
            "1000/1000 [==============================] - 0s 210us/step - loss: 2.3610 - acc: 0.1050\n",
            "Epoch 2/10\n",
            "1000/1000 [==============================] - 0s 101us/step - loss: 2.3226 - acc: 0.0980\n",
            "Epoch 3/10\n",
            "1000/1000 [==============================] - 0s 83us/step - loss: 2.3084 - acc: 0.1170\n",
            "Epoch 4/10\n",
            "1000/1000 [==============================] - 0s 83us/step - loss: 2.2913 - acc: 0.1240\n",
            "Epoch 5/10\n",
            "1000/1000 [==============================] - 0s 84us/step - loss: 2.2766 - acc: 0.1280\n",
            "Epoch 6/10\n",
            "1000/1000 [==============================] - 0s 96us/step - loss: 2.2655 - acc: 0.1520\n",
            "Epoch 7/10\n",
            "1000/1000 [==============================] - 0s 84us/step - loss: 2.2563 - acc: 0.1570\n",
            "Epoch 8/10\n",
            "1000/1000 [==============================] - 0s 93us/step - loss: 2.2445 - acc: 0.1690\n",
            "Epoch 9/10\n",
            "1000/1000 [==============================] - 0s 91us/step - loss: 2.2361 - acc: 0.1680\n",
            "Epoch 10/10\n",
            "1000/1000 [==============================] - 0s 90us/step - loss: 2.2296 - acc: 0.1860\n"
          ],
          "name": "stdout"
        },
        {
          "output_type": "execute_result",
          "data": {
            "text/plain": [
              "<keras.callbacks.History at 0x7f1da57cb278>"
            ]
          },
          "metadata": {
            "tags": []
          },
          "execution_count": 8
        }
      ]
    },
    {
      "cell_type": "markdown",
      "metadata": {
        "id": "sJrdnfAMfWbc",
        "colab_type": "text"
      },
      "source": [
        "Double-click <b>here</b> for the solution.\n",
        "\n",
        "<!-- The answer is below:\n",
        "from keras.utils import to_categorical\n",
        "model = Sequential()\n",
        "model.add(Dense(32, activation='relu', input_dim=100))\n",
        "model.add(Dense(10, activation='softmax'))\n",
        "model.compile(optimizer='rmsprop',\n",
        "              loss='categorical_crossentropy',\n",
        "              metrics=['accuracy'])\n",
        "\n",
        "# Generate dummy data\n",
        "import numpy as np\n",
        "data = np.random.random((1000, 100))\n",
        "labels = np.random.randint(10, size=(1000, 1))\n",
        "\n",
        "# Convert labels to categorical one-hot encoding\n",
        "one_hot_labels = to_categorical(labels, num_classes=10)\n",
        "\n",
        "# Train the model, iterating on the data in batches of 32 samples\n",
        "model.fit(data, one_hot_labels, epochs=10, batch_size=32)\n",
        "\n",
        "-->"
      ]
    },
    {
      "cell_type": "markdown",
      "metadata": {
        "id": "kVpe2f24jTIW",
        "colab_type": "text"
      },
      "source": [
        "# Exercise 2: Building a Basic Keras Neural Network Sequential Model to classify MNIST dataset\n",
        "\n",
        "First we import package and a set hyperparameter and identify dataset variables.\n",
        "\n"
      ]
    },
    {
      "cell_type": "code",
      "metadata": {
        "id": "gl3kYpMSjqUO",
        "colab_type": "code",
        "colab": {}
      },
      "source": [
        "from keras import models\n",
        "from keras.layers import Dense, Dropout\n",
        "from keras.utils import to_categorical\n",
        "from keras.datasets import mnist\n",
        "from keras.utils.vis_utils import model_to_dot\n",
        "from IPython.display import SVG\n",
        "\n",
        "NUM_ROWS = 28\n",
        "NUM_COLS = 28\n",
        "NUM_CLASSES = 10\n",
        "BATCH_SIZE = 128\n",
        "EPOCHS = 10"
      ],
      "execution_count": 0,
      "outputs": []
    },
    {
      "cell_type": "markdown",
      "metadata": {
        "id": "Qr-2yrEUjt5Q",
        "colab_type": "text"
      },
      "source": [
        "## Next is a function for outputting some simple (but useful) metadata of our dataset."
      ]
    },
    {
      "cell_type": "code",
      "metadata": {
        "id": "koiwyv_Jj0Yf",
        "colab_type": "code",
        "colab": {}
      },
      "source": [
        "def data_summary(X_train, y_train, X_test, y_test):\n",
        "    \"\"\"Summarize current state of dataset\"\"\"\n",
        "    print('Train images shape:', X_train.shape)\n",
        "    print('Train labels shape:', y_train.shape)\n",
        "    print('Test images shape:', X_test.shape)\n",
        "    print('Test labels shape:', y_test.shape)\n",
        "    print('Train labels:', y_train)\n",
        "    print('Test labels:', y_test)"
      ],
      "execution_count": 0,
      "outputs": []
    },
    {
      "cell_type": "markdown",
      "metadata": {
        "id": "DcHaDkegj-LU",
        "colab_type": "text"
      },
      "source": [
        "## Next we load our dataset (MNIST, using Keras' dataset utilities), and then use the function above to get some dataset metadata."
      ]
    },
    {
      "cell_type": "code",
      "metadata": {
        "id": "BeMLUCHHkBJy",
        "colab_type": "code",
        "outputId": "32fca507-ba0f-443d-dd35-2f9b276cf1a4",
        "colab": {
          "base_uri": "https://localhost:8080/",
          "height": 174
        }
      },
      "source": [
        "# Load data\n",
        "(X_train, y_train), (X_test, y_test) = mnist.load_data()\n",
        "\n",
        "# Check state of dataset\n",
        "data_summary(X_train, y_train, X_test, y_test)"
      ],
      "execution_count": 0,
      "outputs": [
        {
          "output_type": "stream",
          "text": [
            "Downloading data from https://s3.amazonaws.com/img-datasets/mnist.npz\n",
            "11493376/11490434 [==============================] - 1s 0us/step\n",
            "Train images shape: (60000, 28, 28)\n",
            "Train labels shape: (60000,)\n",
            "Test images shape: (10000, 28, 28)\n",
            "Test labels shape: (10000,)\n",
            "Train labels: [5 0 4 ... 5 6 8]\n",
            "Test labels: [7 2 1 ... 4 5 6]\n"
          ],
          "name": "stdout"
        }
      ]
    },
    {
      "cell_type": "markdown",
      "metadata": {
        "id": "CQBMRuA5kKTQ",
        "colab_type": "text"
      },
      "source": [
        "To feed MNIST instances into a neural network, they need to be reshaped, from a 2 dimensional image representation to a single dimension sequence. We also convert our class vector to a binary matrix (using to_categorical). This is accomplished below, after which the same function defined above is called again in order to show the effects of our data reshaping."
      ]
    },
    {
      "cell_type": "code",
      "metadata": {
        "id": "fRwDGnB8kLpm",
        "colab_type": "code",
        "outputId": "cf1dec73-a449-44af-bed7-adf4117ef151",
        "colab": {
          "base_uri": "https://localhost:8080/",
          "height": 345
        }
      },
      "source": [
        "# Reshape data\n",
        "X_train = X_train.reshape((X_train.shape[0], NUM_ROWS * NUM_COLS))\n",
        "X_train = X_train.astype('float32') / 255\n",
        "X_test = X_test.reshape((X_test.shape[0], NUM_ROWS * NUM_COLS))\n",
        "X_test = X_test.astype('float32') / 255\n",
        "\n",
        "# Categorically encode labels\n",
        "y_train = to_categorical(y_train, NUM_CLASSES)\n",
        "y_test = to_categorical(y_test, NUM_CLASSES)\n",
        "\n",
        "# Check state of dataset\n",
        "data_summary(X_train, y_train, X_test, y_test)"
      ],
      "execution_count": 0,
      "outputs": [
        {
          "output_type": "stream",
          "text": [
            "Train images shape: (60000, 784)\n",
            "Train labels shape: (60000, 10)\n",
            "Test images shape: (10000, 784)\n",
            "Test labels shape: (10000, 10)\n",
            "Train labels: [[0. 0. 0. ... 0. 0. 0.]\n",
            " [1. 0. 0. ... 0. 0. 0.]\n",
            " [0. 0. 0. ... 0. 0. 0.]\n",
            " ...\n",
            " [0. 0. 0. ... 0. 0. 0.]\n",
            " [0. 0. 0. ... 0. 0. 0.]\n",
            " [0. 0. 0. ... 0. 1. 0.]]\n",
            "Test labels: [[0. 0. 0. ... 1. 0. 0.]\n",
            " [0. 0. 1. ... 0. 0. 0.]\n",
            " [0. 1. 0. ... 0. 0. 0.]\n",
            " ...\n",
            " [0. 0. 0. ... 0. 0. 0.]\n",
            " [0. 0. 0. ... 0. 0. 0.]\n",
            " [0. 0. 0. ... 0. 0. 0.]]\n"
          ],
          "name": "stdout"
        }
      ]
    },
    {
      "cell_type": "markdown",
      "metadata": {
        "colab_type": "text",
        "id": "ho-Gqe4elgoK"
      },
      "source": [
        "#Build a Sequential model of Neural Network with three dense layers.\n",
        "\n",
        "\n",
        "\n",
        "1.   Layer 1, 2 and 3 have 512, 256 and 10 nodes respectively. Activation function of first two layers is relu and final layer is softmax.\n",
        "2.   Compile model with optimizer='rmsprop',               loss='categorical_crossentropy' and metrics=['accuracy']\n",
        "3. Train the model with two additional parameters verbose=1 and validation_data=(X_test, y_test)\n",
        "\n",
        "\n",
        "\n",
        "\n",
        "\n"
      ]
    },
    {
      "cell_type": "code",
      "metadata": {
        "id": "kEths_1UjjDJ",
        "colab_type": "code",
        "outputId": "44a443eb-f779-4e4e-b970-460d5379baf5",
        "colab": {
          "base_uri": "https://localhost:8080/",
          "height": 431
        }
      },
      "source": [
        "model = models.Sequential()\n",
        "model.add(Dense(512, activation='relu', input_shape=(NUM_ROWS * NUM_COLS,)))\n",
        "model.add(Dense(256, activation='relu'))\n",
        "model.add(Dense(10, activation='softmax'))\n",
        "\n",
        "model.compile(optimizer='rmsprop',\n",
        "              loss='categorical_crossentropy',\n",
        "              metrics=['accuracy'])\n",
        "\n",
        "model.fit(X_train, y_train,\n",
        "          batch_size=BATCH_SIZE,\n",
        "          epochs=EPOCHS,\n",
        "          verbose=1,\n",
        "          validation_data=(X_test, y_test))\n",
        "\n",
        "score = model.evaluate(X_test, y_test, verbose=0)\n",
        "print('Test loss:', score[0])\n",
        "print('Test accuracy:', score[1])"
      ],
      "execution_count": 0,
      "outputs": [
        {
          "output_type": "stream",
          "text": [
            "Train on 60000 samples, validate on 10000 samples\n",
            "Epoch 1/10\n",
            "60000/60000 [==============================] - 2s 31us/step - loss: 0.2281 - acc: 0.9303 - val_loss: 0.1048 - val_acc: 0.9672\n",
            "Epoch 2/10\n",
            "60000/60000 [==============================] - 2s 28us/step - loss: 0.0842 - acc: 0.9745 - val_loss: 0.0914 - val_acc: 0.9723\n",
            "Epoch 3/10\n",
            "60000/60000 [==============================] - 2s 29us/step - loss: 0.0567 - acc: 0.9823 - val_loss: 0.0708 - val_acc: 0.9775\n",
            "Epoch 4/10\n",
            "60000/60000 [==============================] - 2s 29us/step - loss: 0.0395 - acc: 0.9875 - val_loss: 0.0766 - val_acc: 0.9775\n",
            "Epoch 5/10\n",
            "60000/60000 [==============================] - 2s 29us/step - loss: 0.0305 - acc: 0.9903 - val_loss: 0.0727 - val_acc: 0.9793\n",
            "Epoch 6/10\n",
            "60000/60000 [==============================] - 2s 29us/step - loss: 0.0224 - acc: 0.9931 - val_loss: 0.0709 - val_acc: 0.9819\n",
            "Epoch 7/10\n",
            "60000/60000 [==============================] - 2s 29us/step - loss: 0.0185 - acc: 0.9941 - val_loss: 0.0742 - val_acc: 0.9834\n",
            "Epoch 8/10\n",
            "60000/60000 [==============================] - 2s 29us/step - loss: 0.0141 - acc: 0.9953 - val_loss: 0.0851 - val_acc: 0.9834\n",
            "Epoch 9/10\n",
            "60000/60000 [==============================] - 2s 29us/step - loss: 0.0128 - acc: 0.9960 - val_loss: 0.0978 - val_acc: 0.9801\n",
            "Epoch 10/10\n",
            "60000/60000 [==============================] - 2s 29us/step - loss: 0.0103 - acc: 0.9967 - val_loss: 0.0979 - val_acc: 0.9816\n",
            "Test loss: 0.09788021041957086\n",
            "Test accuracy: 0.9816\n"
          ],
          "name": "stdout"
        }
      ]
    },
    {
      "cell_type": "markdown",
      "metadata": {
        "id": "F2ajV6BzmA8E",
        "colab_type": "text"
      },
      "source": [
        "Double-click <b>here</b> for the solution.\n",
        "\n",
        "<!-- The answer is below:\n",
        "# Build neural network\n",
        "model = models.Sequential()\n",
        "model.add(Dense(512, activation='relu', input_shape=(NUM_ROWS * NUM_COLS,)))\n",
        "model.add(Dense(256, activation='relu'))\n",
        "model.add(Dense(10, activation='softmax'))\n",
        "\n",
        "# Compile model\n",
        "model.compile(optimizer='rmsprop',\n",
        "              loss='categorical_crossentropy',\n",
        "              metrics=['accuracy'])\n",
        "\n",
        "# Train model\n",
        "model.fit(X_train, y_train,\n",
        "          batch_size=BATCH_SIZE,\n",
        "          epochs=EPOCHS,\n",
        "          verbose=1,\n",
        "          validation_data=(X_test, y_test))\n",
        "\n",
        "score = model.evaluate(X_test, y_test, verbose=0)\n",
        "print('Test loss:', score[0])\n",
        "print('Test accuracy:', score[1])\n",
        "-->"
      ]
    },
    {
      "cell_type": "markdown",
      "metadata": {
        "id": "_R1P-fE9mlkV",
        "colab_type": "text"
      },
      "source": [
        "#Output a summary of the neural network we built."
      ]
    },
    {
      "cell_type": "code",
      "metadata": {
        "id": "XF62Moggmnye",
        "colab_type": "code",
        "outputId": "f1806d4e-93ad-4e52-fc65-f97b97d21b3e",
        "colab": {
          "base_uri": "https://localhost:8080/",
          "height": 277
        }
      },
      "source": [
        "# Summary of neural network\n",
        "model.summary()"
      ],
      "execution_count": 0,
      "outputs": [
        {
          "output_type": "stream",
          "text": [
            "Model: \"sequential_3\"\n",
            "_________________________________________________________________\n",
            "Layer (type)                 Output Shape              Param #   \n",
            "=================================================================\n",
            "dense_5 (Dense)              (None, 512)               401920    \n",
            "_________________________________________________________________\n",
            "dense_6 (Dense)              (None, 256)               131328    \n",
            "_________________________________________________________________\n",
            "dense_7 (Dense)              (None, 10)                2570      \n",
            "=================================================================\n",
            "Total params: 535,818\n",
            "Trainable params: 535,818\n",
            "Non-trainable params: 0\n",
            "_________________________________________________________________\n"
          ],
          "name": "stdout"
        }
      ]
    },
    {
      "cell_type": "markdown",
      "metadata": {
        "id": "B3r9ODkFmqwX",
        "colab_type": "text"
      },
      "source": [
        "# Visualize the model:\n"
      ]
    },
    {
      "cell_type": "code",
      "metadata": {
        "id": "pF5PEZWPmtvf",
        "colab_type": "code",
        "outputId": "94f8a0ea-2bed-4a02-d408-b081daa87107",
        "colab": {
          "base_uri": "https://localhost:8080/",
          "height": 510
        }
      },
      "source": [
        "# Output network visualization\n",
        "SVG(model_to_dot(model).create(prog='dot', format='svg'))"
      ],
      "execution_count": 0,
      "outputs": [
        {
          "output_type": "execute_result",
          "data": {
            "text/plain": [
              "<IPython.core.display.SVG object>"
            ],
            "image/svg+xml": "<svg height=\"352pt\" viewBox=\"0.00 0.00 181.00 264.00\" width=\"241pt\" xmlns=\"http://www.w3.org/2000/svg\" xmlns:xlink=\"http://www.w3.org/1999/xlink\">\n<g class=\"graph\" id=\"graph0\" transform=\"scale(1.3333 1.3333) rotate(0) translate(4 260)\">\n<title>G</title>\n<polygon fill=\"#ffffff\" points=\"-4,4 -4,-260 177,-260 177,4 -4,4\" stroke=\"transparent\"/>\n<!-- 139765081872984 -->\n<g class=\"node\" id=\"node1\">\n<title>139765081872984</title>\n<polygon fill=\"none\" points=\"0,-219.5 0,-255.5 173,-255.5 173,-219.5 0,-219.5\" stroke=\"#000000\"/>\n<text fill=\"#000000\" font-family=\"Times,serif\" font-size=\"14.00\" text-anchor=\"middle\" x=\"86.5\" y=\"-233.8\">dense_5_input: InputLayer</text>\n</g>\n<!-- 139765081872480 -->\n<g class=\"node\" id=\"node2\">\n<title>139765081872480</title>\n<polygon fill=\"none\" points=\"33,-146.5 33,-182.5 140,-182.5 140,-146.5 33,-146.5\" stroke=\"#000000\"/>\n<text fill=\"#000000\" font-family=\"Times,serif\" font-size=\"14.00\" text-anchor=\"middle\" x=\"86.5\" y=\"-160.8\">dense_5: Dense</text>\n</g>\n<!-- 139765081872984&#45;&gt;139765081872480 -->\n<g class=\"edge\" id=\"edge1\">\n<title>139765081872984-&gt;139765081872480</title>\n<path d=\"M86.5,-219.4551C86.5,-211.3828 86.5,-201.6764 86.5,-192.6817\" fill=\"none\" stroke=\"#000000\"/>\n<polygon fill=\"#000000\" points=\"90.0001,-192.5903 86.5,-182.5904 83.0001,-192.5904 90.0001,-192.5903\" stroke=\"#000000\"/>\n</g>\n<!-- 139765307481952 -->\n<g class=\"node\" id=\"node3\">\n<title>139765307481952</title>\n<polygon fill=\"none\" points=\"33,-73.5 33,-109.5 140,-109.5 140,-73.5 33,-73.5\" stroke=\"#000000\"/>\n<text fill=\"#000000\" font-family=\"Times,serif\" font-size=\"14.00\" text-anchor=\"middle\" x=\"86.5\" y=\"-87.8\">dense_6: Dense</text>\n</g>\n<!-- 139765081872480&#45;&gt;139765307481952 -->\n<g class=\"edge\" id=\"edge2\">\n<title>139765081872480-&gt;139765307481952</title>\n<path d=\"M86.5,-146.4551C86.5,-138.3828 86.5,-128.6764 86.5,-119.6817\" fill=\"none\" stroke=\"#000000\"/>\n<polygon fill=\"#000000\" points=\"90.0001,-119.5903 86.5,-109.5904 83.0001,-119.5904 90.0001,-119.5903\" stroke=\"#000000\"/>\n</g>\n<!-- 139765081872592 -->\n<g class=\"node\" id=\"node4\">\n<title>139765081872592</title>\n<polygon fill=\"none\" points=\"33,-.5 33,-36.5 140,-36.5 140,-.5 33,-.5\" stroke=\"#000000\"/>\n<text fill=\"#000000\" font-family=\"Times,serif\" font-size=\"14.00\" text-anchor=\"middle\" x=\"86.5\" y=\"-14.8\">dense_7: Dense</text>\n</g>\n<!-- 139765307481952&#45;&gt;139765081872592 -->\n<g class=\"edge\" id=\"edge3\">\n<title>139765307481952-&gt;139765081872592</title>\n<path d=\"M86.5,-73.4551C86.5,-65.3828 86.5,-55.6764 86.5,-46.6817\" fill=\"none\" stroke=\"#000000\"/>\n<polygon fill=\"#000000\" points=\"90.0001,-46.5903 86.5,-36.5904 83.0001,-46.5904 90.0001,-46.5903\" stroke=\"#000000\"/>\n</g>\n</g>\n</svg>"
          },
          "metadata": {
            "tags": []
          },
          "execution_count": 15
        }
      ]
    },
    {
      "cell_type": "markdown",
      "metadata": {
        "id": "-XeWXc0ft6fO",
        "colab_type": "text"
      },
      "source": [
        "#Exercise: Train a Sequential Neural network on CIFAR10 dataset"
      ]
    },
    {
      "cell_type": "code",
      "metadata": {
        "id": "tPWjNVe9uCnw",
        "colab_type": "code",
        "colab": {}
      },
      "source": [
        "#import packages\n",
        "from keras.datasets import cifar10\n",
        "from keras.models import Sequential\n",
        "from keras.layers import Dense, Dropout, Activation, Flatten\n",
        "from keras.utils import to_categorical\n"
      ],
      "execution_count": 0,
      "outputs": []
    },
    {
      "cell_type": "code",
      "metadata": {
        "id": "pjXMCDsxuHAc",
        "colab_type": "code",
        "outputId": "2a63807d-1b7d-4d76-b551-841eb5340873",
        "colab": {
          "base_uri": "https://localhost:8080/",
          "height": 71
        }
      },
      "source": [
        "#import dataset\n",
        "(X_train, y_train), (X_test, y_test) = cifar10.load_data()\n",
        "\n",
        "#change shape from image to vector\n",
        "X_train = X_train.reshape(50000, 32 * 32 * 3)\n",
        "X_test = X_test.reshape(10000, 32 * 32 * 3)\n",
        "\n",
        "#preprocess\n",
        "X_train = X_train.astype('float32')\n",
        "X_test = X_test.astype('float32')\n",
        "X_train /= 255.0\n",
        "X_test /= 255.0\n",
        "\n",
        "#change labels from numeric to one hot encoded\n",
        "Y_train = to_categorical(y_train, 10)\n",
        "Y_test =  to_categorical(y_test, 10)"
      ],
      "execution_count": 0,
      "outputs": [
        {
          "output_type": "stream",
          "text": [
            "Downloading data from https://www.cs.toronto.edu/~kriz/cifar-10-python.tar.gz\n",
            "170500096/170498071 [==============================] - 6s 0us/step\n"
          ],
          "name": "stdout"
        }
      ]
    },
    {
      "cell_type": "markdown",
      "metadata": {
        "id": "0SV6PPCHu6iy",
        "colab_type": "text"
      },
      "source": [
        "# Build sequential model \n",
        "\n",
        "\n",
        "\n",
        "1.   Sequential model with four layers having 1024,512,512,10 nodes respectively\n",
        "2.   Input shape = 3072\n",
        "3.   Activation of first three layers is relu and final is softmax\n",
        "4.   Compile model using loss='categorical_crossentropy', optimizer='adam' and metrics=['accuracy']\n",
        "5. Train model\n",
        "\n"
      ]
    },
    {
      "cell_type": "code",
      "metadata": {
        "id": "Iz1ByTh6kFr0",
        "colab_type": "code",
        "outputId": "a0fb2efe-8ca7-4c42-81f0-0905fd3bf177",
        "colab": {
          "base_uri": "https://localhost:8080/",
          "height": 414
        }
      },
      "source": [
        "model = Sequential()\n",
        "model.add(Dense(1024, input_shape=(3072, )))\n",
        "model.add(Activation('relu'))\n",
        "model.add(Dense(512))\n",
        "model.add(Activation('relu'))\n",
        "model.add(Dense(512))\n",
        "model.add(Activation('relu'))\n",
        "model.add(Dense(10))\n",
        "model.add(Activation('softmax'))\n",
        "\n",
        "model.compile(loss='categorical_crossentropy',\n",
        "                  optimizer='adam',\n",
        "                  metrics=['accuracy'])\n",
        "    \n",
        " \n",
        "history = model.fit(X_train, Y_train,\n",
        "                        batch_size=128,\n",
        "                        nb_epoch=10,\n",
        "                        verbose=1,\n",
        "                        validation_data=(X_test, Y_test))"
      ],
      "execution_count": 0,
      "outputs": [
        {
          "output_type": "stream",
          "text": [
            "/usr/local/lib/python3.6/dist-packages/ipykernel_launcher.py:20: UserWarning: The `nb_epoch` argument in `fit` has been renamed `epochs`.\n"
          ],
          "name": "stderr"
        },
        {
          "output_type": "stream",
          "text": [
            "Train on 50000 samples, validate on 10000 samples\n",
            "Epoch 1/10\n",
            "50000/50000 [==============================] - 3s 66us/step - loss: 1.8761 - acc: 0.3178 - val_loss: 1.6952 - val_acc: 0.3881\n",
            "Epoch 2/10\n",
            "50000/50000 [==============================] - 3s 57us/step - loss: 1.6528 - acc: 0.4072 - val_loss: 1.5978 - val_acc: 0.4291\n",
            "Epoch 3/10\n",
            "50000/50000 [==============================] - 3s 58us/step - loss: 1.5602 - acc: 0.4425 - val_loss: 1.5085 - val_acc: 0.4589\n",
            "Epoch 4/10\n",
            "50000/50000 [==============================] - 3s 57us/step - loss: 1.5059 - acc: 0.4625 - val_loss: 1.4726 - val_acc: 0.4766\n",
            "Epoch 5/10\n",
            "50000/50000 [==============================] - 3s 57us/step - loss: 1.4528 - acc: 0.4806 - val_loss: 1.4632 - val_acc: 0.4777\n",
            "Epoch 6/10\n",
            "50000/50000 [==============================] - 3s 57us/step - loss: 1.4127 - acc: 0.4958 - val_loss: 1.4357 - val_acc: 0.4859\n",
            "Epoch 7/10\n",
            "50000/50000 [==============================] - 3s 58us/step - loss: 1.3799 - acc: 0.5062 - val_loss: 1.4282 - val_acc: 0.4895\n",
            "Epoch 8/10\n",
            "50000/50000 [==============================] - 3s 57us/step - loss: 1.3460 - acc: 0.5184 - val_loss: 1.4618 - val_acc: 0.4873\n",
            "Epoch 9/10\n",
            "50000/50000 [==============================] - 3s 59us/step - loss: 1.3154 - acc: 0.5313 - val_loss: 1.4314 - val_acc: 0.4936\n",
            "Epoch 10/10\n",
            "50000/50000 [==============================] - 3s 58us/step - loss: 1.2757 - acc: 0.5445 - val_loss: 1.4446 - val_acc: 0.4856\n"
          ],
          "name": "stdout"
        }
      ]
    },
    {
      "cell_type": "markdown",
      "metadata": {
        "id": "t51-PrDOvK0R",
        "colab_type": "text"
      },
      "source": [
        "Double-click <b>here</b> for the solution.\n",
        "\n",
        "<!--\n",
        "model = Sequential()\n",
        "model.add(Dense(1024, input_shape=(3072, )))\n",
        "model.add(Activation('relu'))\n",
        "model.add(Dense(512))\n",
        "model.add(Activation('relu'))\n",
        "model.add(Dense(512))\n",
        "model.add(Activation('relu'))\n",
        "model.add(Dense(10))\n",
        "model.add(Activation('softmax'))\n",
        "\n",
        "model.compile(loss='categorical_crossentropy',\n",
        "                  optimizer='adam',\n",
        "                  metrics=['accuracy'])\n",
        "    \n",
        " \n",
        "\n",
        "# training\n",
        "history = model.fit(X_train, Y_train,\n",
        "                        batch_size=128,\n",
        "                        nb_epoch=10,\n",
        "                        verbose=1,\n",
        "                        validation_data=(X_test, Y_test))\n",
        "-->"
      ]
    },
    {
      "cell_type": "markdown",
      "metadata": {
        "id": "c81PL1bVxZRZ",
        "colab_type": "text"
      },
      "source": [
        "# Plot accuracy and loss after model is trained. \n",
        "\n",
        "(Caution: Will not work unless previous step is performed)"
      ]
    },
    {
      "cell_type": "code",
      "metadata": {
        "id": "ptYUQKCWwTUf",
        "colab_type": "code",
        "outputId": "3c6e865d-c255-4e88-f030-ca17eb26cc28",
        "colab": {
          "base_uri": "https://localhost:8080/",
          "height": 593
        }
      },
      "source": [
        "import matplotlib.pyplot as plt\n",
        "# Plot training & validation accuracy values\n",
        "plt.plot(history.history['acc'])\n",
        "plt.plot(history.history['val_acc'])\n",
        "plt.title('Model accuracy')\n",
        "plt.ylabel('Accuracy')\n",
        "plt.xlabel('Epoch')\n",
        "plt.legend(['Train', 'Test'], loc='upper left')\n",
        "plt.show()\n",
        "\n",
        "# Plot training & validation loss values\n",
        "plt.plot(history.history['loss'])\n",
        "plt.plot(history.history['val_loss'])\n",
        "plt.title('Model loss')\n",
        "plt.ylabel('Loss')\n",
        "plt.xlabel('Epoch')\n",
        "plt.legend(['Train', 'Test'], loc='upper left')\n",
        "plt.show()"
      ],
      "execution_count": 0,
      "outputs": [
        {
          "output_type": "display_data",
          "data": {
            "image/png": "[encoded data removed]",
            "text/plain": [
              "<Figure size 432x288 with 1 Axes>"
            ]
          },
          "metadata": {
            "tags": []
          }
        },
        {
          "output_type": "display_data",
          "data": {
            "image/png": "[encoded data removed]",
            "text/plain": [
              "<Figure size 432x288 with 1 Axes>"
            ]
          },
          "metadata": {
            "tags": []
          }
        }
      ]
    },
    {
      "cell_type": "markdown",
      "metadata": {
        "id": "U1JOX52A01Dc",
        "colab_type": "text"
      },
      "source": [
        "# Improving accuracy on Iris dataset\n",
        "\n",
        "\n",
        "\n",
        "1.   Find the accuracy of the below model\n",
        "2.   Improve accuracy by increasing layers, epochs, optimizer or loss metrics\n",
        "\n"
      ]
    },
    {
      "cell_type": "code",
      "metadata": {
        "id": "PN6DlpbYytgU",
        "colab_type": "code",
        "outputId": "dc8aa60e-03ae-4e5e-a6a4-f6a7c41edcd6",
        "colab": {
          "base_uri": "https://localhost:8080/",
          "height": 1000
        }
      },
      "source": [
        "import pandas\n",
        "from keras.models import Sequential\n",
        "from keras.layers import Dense\n",
        "from keras.wrappers.scikit_learn import KerasClassifier\n",
        "from keras.utils import np_utils\n",
        "from sklearn.model_selection import cross_val_score\n",
        "from sklearn.model_selection import KFold\n",
        "from sklearn.preprocessing import LabelEncoder\n",
        "from sklearn.pipeline import Pipeline\n",
        "from sklearn.datasets import load_iris\n",
        "from sklearn.model_selection import train_test_split\n",
        "from sklearn.preprocessing import OneHotEncoder\n",
        "from keras.optimizers import Adam\n",
        "\n",
        "iris_data = load_iris()\n",
        "\t\n",
        "x = iris_data.data\n",
        "y_ = iris_data.target.reshape(-1, 1) # Convert data to a single column\n",
        "\n",
        "# One Hot encode the class labels\n",
        "encoder = OneHotEncoder(sparse=False)\n",
        "y = encoder.fit_transform(y_)\n",
        "\n",
        "\n",
        "# Split the data for training and testing\n",
        "train_x, test_x, train_y, test_y = train_test_split(x, y, test_size=0.01)\n",
        "\n",
        "\n",
        "model = Sequential()\n",
        "\n",
        "model.add(Dense(10, input_shape=(4,), activation='relu'))\n",
        "model.add(Dense(10, activation='relu'))\n",
        "model.add(Dense(3, activation='softmax'))\n",
        "\n",
        "# Compile\n",
        "model.compile(optimizer='adam', loss='categorical_crossentropy', metrics=['accuracy'])\n",
        "\n",
        "# Train the model\n",
        "model.fit(train_x, train_y, verbose=2, batch_size=5, epochs=200)\n",
        "\n",
        "# Test on unseen data\n",
        "\n",
        "results = model.evaluate(test_x, test_y)\n",
        "\n",
        "print('Final test set loss: {:4f}'.format(results[0]))\n",
        "print('Final test set accuracy: {:4f}'.format(results[1]))\n"
      ],
      "execution_count": 0,
      "outputs": [
        {
          "output_type": "stream",
          "text": [
            "Epoch 1/200\n",
            " - 0s - loss: 2.9132 - acc: 0.3378\n",
            "Epoch 2/200\n",
            " - 0s - loss: 1.6705 - acc: 0.0270\n",
            "Epoch 3/200\n",
            " - 0s - loss: 1.2200 - acc: 0.0068\n",
            "Epoch 4/200\n",
            " - 0s - loss: 1.0613 - acc: 0.2500\n",
            "Epoch 5/200\n",
            " - 0s - loss: 0.9436 - acc: 0.5541\n",
            "Epoch 6/200\n",
            " - 0s - loss: 0.8312 - acc: 0.7365\n",
            "Epoch 7/200\n",
            " - 0s - loss: 0.7599 - acc: 0.8784\n",
            "Epoch 8/200\n",
            " - 0s - loss: 0.7029 - acc: 0.8986\n",
            "Epoch 9/200\n",
            " - 0s - loss: 0.6584 - acc: 0.9054\n",
            "Epoch 10/200\n",
            " - 0s - loss: 0.6174 - acc: 0.7568\n",
            "Epoch 11/200\n",
            " - 0s - loss: 0.5815 - acc: 0.9324\n",
            "Epoch 12/200\n",
            " - 0s - loss: 0.5440 - acc: 0.8581\n",
            "Epoch 13/200\n",
            " - 0s - loss: 0.5117 - acc: 0.8716\n",
            "Epoch 14/200\n",
            " - 0s - loss: 0.4869 - acc: 0.9595\n",
            "Epoch 15/200\n",
            " - 0s - loss: 0.4700 - acc: 0.8581\n",
            "Epoch 16/200\n",
            " - 0s - loss: 0.4363 - acc: 0.9189\n",
            "Epoch 17/200\n",
            " - 0s - loss: 0.4120 - acc: 0.9392\n",
            "Epoch 18/200\n",
            " - 0s - loss: 0.3886 - acc: 0.9324\n",
            "Epoch 19/200\n",
            " - 0s - loss: 0.3736 - acc: 0.9257\n",
            "Epoch 20/200\n",
            " - 0s - loss: 0.3446 - acc: 0.9662\n",
            "Epoch 21/200\n",
            " - 0s - loss: 0.3268 - acc: 0.9797\n",
            "Epoch 22/200\n",
            " - 0s - loss: 0.3143 - acc: 0.9392\n",
            "Epoch 23/200\n",
            " - 0s - loss: 0.2990 - acc: 0.9797\n",
            "Epoch 24/200\n",
            " - 0s - loss: 0.2906 - acc: 0.9595\n",
            "Epoch 25/200\n",
            " - 0s - loss: 0.2747 - acc: 0.9595\n",
            "Epoch 26/200\n",
            " - 0s - loss: 0.2583 - acc: 0.9595\n",
            "Epoch 27/200\n",
            " - 0s - loss: 0.2487 - acc: 0.9797\n",
            "Epoch 28/200\n",
            " - 0s - loss: 0.2359 - acc: 0.9797\n",
            "Epoch 29/200\n",
            " - 0s - loss: 0.2278 - acc: 0.9730\n",
            "Epoch 30/200\n",
            " - 0s - loss: 0.2159 - acc: 0.9662\n",
            "Epoch 31/200\n",
            " - 0s - loss: 0.2096 - acc: 0.9797\n",
            "Epoch 32/200\n",
            " - 0s - loss: 0.2004 - acc: 0.9730\n",
            "Epoch 33/200\n",
            " - 0s - loss: 0.1936 - acc: 0.9797\n",
            "Epoch 34/200\n",
            " - 0s - loss: 0.1877 - acc: 0.9730\n",
            "Epoch 35/200\n",
            " - 0s - loss: 0.1786 - acc: 0.9527\n",
            "Epoch 36/200\n",
            " - 0s - loss: 0.1817 - acc: 0.9595\n",
            "Epoch 37/200\n",
            " - 0s - loss: 0.1701 - acc: 0.9730\n",
            "Epoch 38/200\n",
            " - 0s - loss: 0.1684 - acc: 0.9730\n",
            "Epoch 39/200\n",
            " - 0s - loss: 0.1601 - acc: 0.9730\n",
            "Epoch 40/200\n",
            " - 0s - loss: 0.1582 - acc: 0.9595\n",
            "Epoch 41/200\n",
            " - 0s - loss: 0.1483 - acc: 0.9797\n",
            "Epoch 42/200\n",
            " - 0s - loss: 0.1454 - acc: 0.9797\n",
            "Epoch 43/200\n",
            " - 0s - loss: 0.1474 - acc: 0.9595\n",
            "Epoch 44/200\n",
            " - 0s - loss: 0.1445 - acc: 0.9662\n",
            "Epoch 45/200\n",
            " - 0s - loss: 0.1388 - acc: 0.9730\n",
            "Epoch 46/200\n",
            " - 0s - loss: 0.1307 - acc: 0.9730\n",
            "Epoch 47/200\n",
            " - 0s - loss: 0.1305 - acc: 0.9797\n",
            "Epoch 48/200\n",
            " - 0s - loss: 0.1360 - acc: 0.9797\n",
            "Epoch 49/200\n",
            " - 0s - loss: 0.1305 - acc: 0.9730\n",
            "Epoch 50/200\n",
            " - 0s - loss: 0.1214 - acc: 0.9730\n",
            "Epoch 51/200\n",
            " - 0s - loss: 0.1166 - acc: 0.9797\n",
            "Epoch 52/200\n",
            " - 0s - loss: 0.1155 - acc: 0.9730\n",
            "Epoch 53/200\n",
            " - 0s - loss: 0.1136 - acc: 0.9797\n",
            "Epoch 54/200\n",
            " - 0s - loss: 0.1139 - acc: 0.9730\n",
            "Epoch 55/200\n",
            " - 0s - loss: 0.1108 - acc: 0.9797\n",
            "Epoch 56/200\n",
            " - 0s - loss: 0.1097 - acc: 0.9797\n",
            "Epoch 57/200\n",
            " - 0s - loss: 0.1107 - acc: 0.9730\n",
            "Epoch 58/200\n",
            " - 0s - loss: 0.1118 - acc: 0.9662\n",
            "Epoch 59/200\n",
            " - 0s - loss: 0.1267 - acc: 0.9527\n",
            "Epoch 60/200\n",
            " - 0s - loss: 0.1008 - acc: 0.9730\n",
            "Epoch 61/200\n",
            " - 0s - loss: 0.1020 - acc: 0.9662\n",
            "Epoch 62/200\n",
            " - 0s - loss: 0.0979 - acc: 0.9797\n",
            "Epoch 63/200\n",
            " - 0s - loss: 0.1060 - acc: 0.9595\n",
            "Epoch 64/200\n",
            " - 0s - loss: 0.1014 - acc: 0.9595\n",
            "Epoch 65/200\n",
            " - 0s - loss: 0.1014 - acc: 0.9797\n",
            "Epoch 66/200\n",
            " - 0s - loss: 0.1053 - acc: 0.9595\n",
            "Epoch 67/200\n",
            " - 0s - loss: 0.0923 - acc: 0.9797\n",
            "Epoch 68/200\n",
            " - 0s - loss: 0.1028 - acc: 0.9527\n",
            "Epoch 69/200\n",
            " - 0s - loss: 0.0925 - acc: 0.9797\n",
            "Epoch 70/200\n",
            " - 0s - loss: 0.0939 - acc: 0.9797\n",
            "Epoch 71/200\n",
            " - 0s - loss: 0.0914 - acc: 0.9797\n",
            "Epoch 72/200\n",
            " - 0s - loss: 0.0899 - acc: 0.9730\n",
            "Epoch 73/200\n",
            " - 0s - loss: 0.0920 - acc: 0.9797\n",
            "Epoch 74/200\n",
            " - 0s - loss: 0.0920 - acc: 0.9730\n",
            "Epoch 75/200\n",
            " - 0s - loss: 0.0948 - acc: 0.9662\n",
            "Epoch 76/200\n",
            " - 0s - loss: 0.0866 - acc: 0.9730\n",
            "Epoch 77/200\n",
            " - 0s - loss: 0.0920 - acc: 0.9730\n",
            "Epoch 78/200\n",
            " - 0s - loss: 0.1012 - acc: 0.9595\n",
            "Epoch 79/200\n",
            " - 0s - loss: 0.0918 - acc: 0.9527\n",
            "Epoch 80/200\n",
            " - 0s - loss: 0.0876 - acc: 0.9662\n",
            "Epoch 81/200\n",
            " - 0s - loss: 0.0839 - acc: 0.9797\n",
            "Epoch 82/200\n",
            " - 0s - loss: 0.0846 - acc: 0.9797\n",
            "Epoch 83/200\n",
            " - 0s - loss: 0.0845 - acc: 0.9595\n",
            "Epoch 84/200\n",
            " - 0s - loss: 0.0819 - acc: 0.9797\n",
            "Epoch 85/200\n",
            " - 0s - loss: 0.0850 - acc: 0.9662\n",
            "Epoch 86/200\n",
            " - 0s - loss: 0.0908 - acc: 0.9730\n",
            "Epoch 87/200\n",
            " - 0s - loss: 0.0871 - acc: 0.9797\n",
            "Epoch 88/200\n",
            " - 0s - loss: 0.0986 - acc: 0.9527\n",
            "Epoch 89/200\n",
            " - 0s - loss: 0.0998 - acc: 0.9595\n",
            "Epoch 90/200\n",
            " - 0s - loss: 0.0812 - acc: 0.9797\n",
            "Epoch 91/200\n",
            " - 0s - loss: 0.0900 - acc: 0.9662\n",
            "Epoch 92/200\n",
            " - 0s - loss: 0.0813 - acc: 0.9730\n",
            "Epoch 93/200\n",
            " - 0s - loss: 0.0840 - acc: 0.9797\n",
            "Epoch 94/200\n",
            " - 0s - loss: 0.0797 - acc: 0.9662\n",
            "Epoch 95/200\n",
            " - 0s - loss: 0.0818 - acc: 0.9797\n",
            "Epoch 96/200\n",
            " - 0s - loss: 0.0806 - acc: 0.9730\n",
            "Epoch 97/200\n",
            " - 0s - loss: 0.0787 - acc: 0.9662\n",
            "Epoch 98/200\n",
            " - 0s - loss: 0.0834 - acc: 0.9730\n",
            "Epoch 99/200\n",
            " - 0s - loss: 0.0785 - acc: 0.9797\n",
            "Epoch 100/200\n",
            " - 0s - loss: 0.0757 - acc: 0.9797\n",
            "Epoch 101/200\n",
            " - 0s - loss: 0.0774 - acc: 0.9730\n",
            "Epoch 102/200\n",
            " - 0s - loss: 0.0754 - acc: 0.9797\n",
            "Epoch 103/200\n",
            " - 0s - loss: 0.0827 - acc: 0.9662\n",
            "Epoch 104/200\n",
            " - 0s - loss: 0.0735 - acc: 0.9797\n",
            "Epoch 105/200\n",
            " - 0s - loss: 0.0756 - acc: 0.9662\n",
            "Epoch 106/200\n",
            " - 0s - loss: 0.0748 - acc: 0.9730\n",
            "Epoch 107/200\n",
            " - 0s - loss: 0.0743 - acc: 0.9730\n",
            "Epoch 108/200\n",
            " - 0s - loss: 0.0881 - acc: 0.9730\n",
            "Epoch 109/200\n",
            " - 0s - loss: 0.0801 - acc: 0.9662\n",
            "Epoch 110/200\n",
            " - 0s - loss: 0.0884 - acc: 0.9662\n",
            "Epoch 111/200\n",
            " - 0s - loss: 0.0824 - acc: 0.9730\n",
            "Epoch 112/200\n",
            " - 0s - loss: 0.0734 - acc: 0.9797\n",
            "Epoch 113/200\n",
            " - 0s - loss: 0.0765 - acc: 0.9797\n",
            "Epoch 114/200\n",
            " - 0s - loss: 0.0736 - acc: 0.9527\n",
            "Epoch 115/200\n",
            " - 0s - loss: 0.0720 - acc: 0.9730\n",
            "Epoch 116/200\n",
            " - 0s - loss: 0.0760 - acc: 0.9662\n",
            "Epoch 117/200\n",
            " - 0s - loss: 0.0739 - acc: 0.9730\n",
            "Epoch 118/200\n",
            " - 0s - loss: 0.0748 - acc: 0.9797\n",
            "Epoch 119/200\n",
            " - 0s - loss: 0.0702 - acc: 0.9797\n",
            "Epoch 120/200\n",
            " - 0s - loss: 0.0715 - acc: 0.9797\n",
            "Epoch 121/200\n",
            " - 0s - loss: 0.0753 - acc: 0.9730\n",
            "Epoch 122/200\n",
            " - 0s - loss: 0.0713 - acc: 0.9797\n",
            "Epoch 123/200\n",
            " - 0s - loss: 0.0741 - acc: 0.9797\n",
            "Epoch 124/200\n",
            " - 0s - loss: 0.0828 - acc: 0.9662\n",
            "Epoch 125/200\n",
            " - 0s - loss: 0.0729 - acc: 0.9797\n",
            "Epoch 126/200\n",
            " - 0s - loss: 0.0825 - acc: 0.9662\n",
            "Epoch 127/200\n",
            " - 0s - loss: 0.0709 - acc: 0.9865\n",
            "Epoch 128/200\n",
            " - 0s - loss: 0.0704 - acc: 0.9797\n",
            "Epoch 129/200\n",
            " - 0s - loss: 0.0721 - acc: 0.9730\n",
            "Epoch 130/200\n",
            " - 0s - loss: 0.0761 - acc: 0.9730\n",
            "Epoch 131/200\n",
            " - 0s - loss: 0.0679 - acc: 0.9797\n",
            "Epoch 132/200\n",
            " - 0s - loss: 0.0716 - acc: 0.9662\n",
            "Epoch 133/200\n",
            " - 0s - loss: 0.0739 - acc: 0.9797\n",
            "Epoch 134/200\n",
            " - 0s - loss: 0.0728 - acc: 0.9459\n",
            "Epoch 135/200\n",
            " - 0s - loss: 0.0682 - acc: 0.9730\n",
            "Epoch 136/200\n",
            " - 0s - loss: 0.0668 - acc: 0.9797\n",
            "Epoch 137/200\n",
            " - 0s - loss: 0.0683 - acc: 0.9865\n",
            "Epoch 138/200\n",
            " - 0s - loss: 0.0714 - acc: 0.9730\n",
            "Epoch 139/200\n",
            " - 0s - loss: 0.0733 - acc: 0.9797\n",
            "Epoch 140/200\n",
            " - 0s - loss: 0.0705 - acc: 0.9730\n",
            "Epoch 141/200\n",
            " - 0s - loss: 0.0705 - acc: 0.9730\n",
            "Epoch 142/200\n",
            " - 0s - loss: 0.0668 - acc: 0.9797\n",
            "Epoch 143/200\n",
            " - 0s - loss: 0.0678 - acc: 0.9662\n",
            "Epoch 144/200\n",
            " - 0s - loss: 0.0740 - acc: 0.9662\n",
            "Epoch 145/200\n",
            " - 0s - loss: 0.0744 - acc: 0.9730\n",
            "Epoch 146/200\n",
            " - 0s - loss: 0.0710 - acc: 0.9730\n",
            "Epoch 147/200\n",
            " - 0s - loss: 0.0735 - acc: 0.9730\n",
            "Epoch 148/200\n",
            " - 0s - loss: 0.0805 - acc: 0.9730\n",
            "Epoch 149/200\n",
            " - 0s - loss: 0.0728 - acc: 0.9662\n",
            "Epoch 150/200\n",
            " - 0s - loss: 0.0665 - acc: 0.9730\n",
            "Epoch 151/200\n",
            " - 0s - loss: 0.0673 - acc: 0.9527\n",
            "Epoch 152/200\n",
            " - 0s - loss: 0.0673 - acc: 0.9797\n",
            "Epoch 153/200\n",
            " - 0s - loss: 0.0684 - acc: 0.9595\n",
            "Epoch 154/200\n",
            " - 0s - loss: 0.0728 - acc: 0.9730\n",
            "Epoch 155/200\n",
            " - 0s - loss: 0.0675 - acc: 0.9797\n",
            "Epoch 156/200\n",
            " - 0s - loss: 0.0662 - acc: 0.9730\n",
            "Epoch 157/200\n",
            " - 0s - loss: 0.0752 - acc: 0.9797\n",
            "Epoch 158/200\n",
            " - 0s - loss: 0.0628 - acc: 0.9797\n",
            "Epoch 159/200\n",
            " - 0s - loss: 0.0671 - acc: 0.9730\n",
            "Epoch 160/200\n",
            " - 0s - loss: 0.0657 - acc: 0.9730\n",
            "Epoch 161/200\n",
            " - 0s - loss: 0.0696 - acc: 0.9865\n",
            "Epoch 162/200\n",
            " - 0s - loss: 0.0646 - acc: 0.9797\n",
            "Epoch 163/200\n",
            " - 0s - loss: 0.0720 - acc: 0.9662\n",
            "Epoch 164/200\n",
            " - 0s - loss: 0.0634 - acc: 0.9730\n",
            "Epoch 165/200\n",
            " - 0s - loss: 0.0702 - acc: 0.9797\n",
            "Epoch 166/200\n",
            " - 0s - loss: 0.0789 - acc: 0.9730\n",
            "Epoch 167/200\n",
            " - 0s - loss: 0.0739 - acc: 0.9662\n",
            "Epoch 168/200\n",
            " - 0s - loss: 0.0703 - acc: 0.9730\n",
            "Epoch 169/200\n",
            " - 0s - loss: 0.0668 - acc: 0.9730\n",
            "Epoch 170/200\n",
            " - 0s - loss: 0.0628 - acc: 0.9662\n",
            "Epoch 171/200\n",
            " - 0s - loss: 0.0699 - acc: 0.9797\n",
            "Epoch 172/200\n",
            " - 0s - loss: 0.0805 - acc: 0.9595\n",
            "Epoch 173/200\n",
            " - 0s - loss: 0.0737 - acc: 0.9662\n",
            "Epoch 174/200\n",
            " - 0s - loss: 0.0687 - acc: 0.9662\n",
            "Epoch 175/200\n",
            " - 0s - loss: 0.0667 - acc: 0.9662\n",
            "Epoch 176/200\n",
            " - 0s - loss: 0.0628 - acc: 0.9797\n",
            "Epoch 177/200\n",
            " - 0s - loss: 0.0630 - acc: 0.9797\n",
            "Epoch 178/200\n",
            " - 0s - loss: 0.0604 - acc: 0.9797\n",
            "Epoch 179/200\n",
            " - 0s - loss: 0.0602 - acc: 0.9662\n",
            "Epoch 180/200\n",
            " - 0s - loss: 0.0670 - acc: 0.9527\n",
            "Epoch 181/200\n",
            " - 0s - loss: 0.0624 - acc: 0.9797\n",
            "Epoch 182/200\n",
            " - 0s - loss: 0.0629 - acc: 0.9662\n",
            "Epoch 183/200\n",
            " - 0s - loss: 0.0798 - acc: 0.9730\n",
            "Epoch 184/200\n",
            " - 0s - loss: 0.0617 - acc: 0.9797\n",
            "Epoch 185/200\n",
            " - 0s - loss: 0.0614 - acc: 0.9797\n",
            "Epoch 186/200\n",
            " - 0s - loss: 0.0620 - acc: 0.9797\n",
            "Epoch 187/200\n",
            " - 0s - loss: 0.0659 - acc: 0.9730\n",
            "Epoch 188/200\n",
            " - 0s - loss: 0.0604 - acc: 0.9797\n",
            "Epoch 189/200\n",
            " - 0s - loss: 0.0650 - acc: 0.9797\n",
            "Epoch 190/200\n",
            " - 0s - loss: 0.0684 - acc: 0.9730\n",
            "Epoch 191/200\n",
            " - 0s - loss: 0.0670 - acc: 0.9662\n",
            "Epoch 192/200\n",
            " - 0s - loss: 0.0620 - acc: 0.9797\n",
            "Epoch 193/200\n",
            " - 0s - loss: 0.0650 - acc: 0.9662\n",
            "Epoch 194/200\n",
            " - 0s - loss: 0.0617 - acc: 0.9797\n",
            "Epoch 195/200\n",
            " - 0s - loss: 0.0625 - acc: 0.9865\n",
            "Epoch 196/200\n",
            " - 0s - loss: 0.0772 - acc: 0.9662\n",
            "Epoch 197/200\n",
            " - 0s - loss: 0.0616 - acc: 0.9730\n",
            "Epoch 198/200\n",
            " - 0s - loss: 0.0634 - acc: 0.9662\n",
            "Epoch 199/200\n",
            " - 0s - loss: 0.0599 - acc: 0.9865\n",
            "Epoch 200/200\n",
            " - 0s - loss: 0.0630 - acc: 0.9797\n",
            "2/2 [==============================] - 0s 40ms/step\n",
            "Final test set loss: 0.000530\n",
            "Final test set accuracy: 1.000000\n"
          ],
          "name": "stdout"
        }
      ]
    },
    {
      "cell_type": "markdown",
      "metadata": {
        "id": "-rkZZKV4yV9U",
        "colab_type": "text"
      },
      "source": [
        "#Thank you for completing this notebook.\n",
        "\n"
      ]
    },
    {
      "cell_type": "markdown",
      "metadata": {
        "id": "kl-88q4Mu-OH",
        "colab_type": "text"
      },
      "source": [
        "\n",
        "<!--\n",
        "    model = Sequential()\n",
        "    model.add(Dense(1024, input_shape=(3072, )))\n",
        "    model.add(Activation('relu'))\n",
        "    model.add(Dropout(0.2))\n",
        "    model.add(Dense(512))\n",
        "    model.add(Activation('relu'))\n",
        "    model.add(Dropout(0.2))\n",
        "    model.add(Dense(512))\n",
        "    model.add(Activation('relu'))\n",
        "    model.add(Dropout(0.2))\n",
        "    model.add(Dense(10))\n",
        "    model.add(Activation('softmax'))\n",
        "\n",
        "    model.compile(loss='categorical_crossentropy',\n",
        "                  optimizer='adam',\n",
        "                  metrics=['accuracy'])\n",
        "    model.summary()\n",
        "\n",
        "    # training\n",
        "    history = model.fit(X_train, Y_train,\n",
        "                        batch_size=batch_size,\n",
        "                        nb_epoch=nb_epoch,\n",
        "                        verbose=1,\n",
        "                        validation_data=(X_test, Y_test))\n",
        "\n",
        "-->"
      ]
    }
  ]
}