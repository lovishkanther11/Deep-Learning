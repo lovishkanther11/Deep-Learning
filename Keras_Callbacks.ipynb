{
  "nbformat": 4,
  "nbformat_minor": 0,
  "metadata": {
    "colab": {
      "name": "Keras-Callbacks.ipynb",
      "provenance": [],
      "collapsed_sections": [],
      "include_colab_link": true
    },
    "kernelspec": {
      "name": "python3",
      "display_name": "Python 3"
    },
    "accelerator": "GPU"
  },
  "cells": [
    {
      "cell_type": "markdown",
      "metadata": {
        "id": "view-in-github",
        "colab_type": "text"
      },
      "source": [
        "<a href=\"https://colab.research.google.com/github/lovishkanther11/Deep-Learning/blob/master/Keras_Callbacks.ipynb\" target=\"_parent\"><img src=\"https://colab.research.google.com/assets/colab-badge.svg\" alt=\"Open In Colab\"/></a>"
      ]
    },
    {
      "cell_type": "markdown",
      "metadata": {
        "id": "-1DzPAqft6mM",
        "colab_type": "text"
      },
      "source": [
        "#Callbacks\n",
        "\n",
        "Deep learning models can take hours, days or even weeks to train.\n",
        "\n",
        "If the run is stopped unexpectedly, you can lose a lot of work.\n",
        "\n",
        "In this post you will discover how you can check-point your deep learning models during training in Python using the Keras library."
      ]
    },
    {
      "cell_type": "code",
      "metadata": {
        "id": "9Qi36pHUtjWZ",
        "colab_type": "code",
        "colab": {
          "base_uri": "https://localhost:8080/",
          "height": 1000
        },
        "outputId": "b59123e2-026b-46f5-8c1f-9f9af7170aa5"
      },
      "source": [
        "import keras\n",
        "from keras import models\n",
        "from keras.layers import Dense, Dropout\n",
        "from keras.utils import to_categorical\n",
        "from keras.datasets import mnist\n",
        "from keras.utils.vis_utils import model_to_dot\n",
        "from IPython.display import SVG\n",
        "from keras.callbacks import ModelCheckpoint\n",
        "\n",
        "NUM_ROWS = 28\n",
        "NUM_COLS = 28\n",
        "NUM_CLASSES = 10\n",
        "BATCH_SIZE = 128\n",
        "EPOCHS = 10\n",
        "\n",
        "# Load data\n",
        "(X_train, y_train), (X_test, y_test) = mnist.load_data()\n",
        "\n",
        "# Reshape data\n",
        "X_train = X_train.reshape((X_train.shape[0], NUM_ROWS * NUM_COLS))\n",
        "X_train = X_train.astype('float32') / 255\n",
        "X_test = X_test.reshape((X_test.shape[0], NUM_ROWS * NUM_COLS))\n",
        "X_test = X_test.astype('float32') / 255\n",
        "\n",
        "# Categorically encode labels\n",
        "y_train = to_categorical(y_train, NUM_CLASSES)\n",
        "y_test = to_categorical(y_test, NUM_CLASSES)\n",
        "\n",
        "\n",
        "# Build neural network\n",
        "model = models.Sequential()\n",
        "model.add(Dense(512, activation='elu', input_shape=(NUM_ROWS * NUM_COLS,)))\n",
        "model.add(Dense(256, activation='elu'))\n",
        "model.add(Dense(10, activation='softmax'))\n",
        "\n",
        "# Compile model\n",
        "model.compile(optimizer='rmsprop',\n",
        "              loss='categorical_crossentropy',\n",
        "              metrics=['accuracy'])\n",
        "\n",
        "\n",
        "\n",
        "# checkpoint\n",
        "filepath=\"weights-improvement-{epoch:02d}-{val_acc:.2f}.hdf5\"\n",
        "checkpoint = ModelCheckpoint(filepath, monitor='val_acc', verbose=1, save_best_only=True, mode='max')\n",
        "callbacks_list = [checkpoint]\n",
        "\n",
        "\n",
        "# Train model\n",
        "model.fit(X_train, y_train,\n",
        "          batch_size=BATCH_SIZE,\n",
        "          epochs=EPOCHS,\n",
        "          verbose=1,\n",
        "          validation_data=(X_test, y_test), callbacks=callbacks_list)\n",
        "\n",
        "\n"
      ],
      "execution_count": 1,
      "outputs": [
        {
          "output_type": "stream",
          "text": [
            "Using TensorFlow backend.\n"
          ],
          "name": "stderr"
        },
        {
          "output_type": "display_data",
          "data": {
            "text/html": [
              "<p style=\"color: red;\">\n",
              "The default version of TensorFlow in Colab will soon switch to TensorFlow 2.x.<br>\n",
              "We recommend you <a href=\"https://www.tensorflow.org/guide/migrate\" target=\"_blank\">upgrade</a> now \n",
              "or ensure your notebook will continue to use TensorFlow 1.x via the <code>%tensorflow_version 1.x</code> magic:\n",
              "<a href=\"https://colab.research.google.com/notebooks/tensorflow_version.ipynb\" target=\"_blank\">more info</a>.</p>\n"
            ],
            "text/plain": [
              "<IPython.core.display.HTML object>"
            ]
          },
          "metadata": {
            "tags": []
          }
        },
        {
          "output_type": "stream",
          "text": [
            "Downloading data from https://s3.amazonaws.com/img-datasets/mnist.npz\n",
            "11493376/11490434 [==============================] - 0s 0us/step\n",
            "WARNING:tensorflow:From /usr/local/lib/python3.6/dist-packages/keras/backend/tensorflow_backend.py:66: The name tf.get_default_graph is deprecated. Please use tf.compat.v1.get_default_graph instead.\n",
            "\n",
            "WARNING:tensorflow:From /usr/local/lib/python3.6/dist-packages/keras/backend/tensorflow_backend.py:541: The name tf.placeholder is deprecated. Please use tf.compat.v1.placeholder instead.\n",
            "\n",
            "WARNING:tensorflow:From /usr/local/lib/python3.6/dist-packages/keras/backend/tensorflow_backend.py:4432: The name tf.random_uniform is deprecated. Please use tf.random.uniform instead.\n",
            "\n",
            "WARNING:tensorflow:From /usr/local/lib/python3.6/dist-packages/keras/optimizers.py:793: The name tf.train.Optimizer is deprecated. Please use tf.compat.v1.train.Optimizer instead.\n",
            "\n",
            "WARNING:tensorflow:From /usr/local/lib/python3.6/dist-packages/keras/backend/tensorflow_backend.py:3576: The name tf.log is deprecated. Please use tf.math.log instead.\n",
            "\n",
            "WARNING:tensorflow:From /usr/local/lib/python3.6/dist-packages/tensorflow_core/python/ops/math_grad.py:1424: where (from tensorflow.python.ops.array_ops) is deprecated and will be removed in a future version.\n",
            "Instructions for updating:\n",
            "Use tf.where in 2.0, which has the same broadcast rule as np.where\n",
            "WARNING:tensorflow:From /usr/local/lib/python3.6/dist-packages/keras/backend/tensorflow_backend.py:1033: The name tf.assign_add is deprecated. Please use tf.compat.v1.assign_add instead.\n",
            "\n",
            "WARNING:tensorflow:From /usr/local/lib/python3.6/dist-packages/keras/backend/tensorflow_backend.py:1020: The name tf.assign is deprecated. Please use tf.compat.v1.assign instead.\n",
            "\n",
            "WARNING:tensorflow:From /usr/local/lib/python3.6/dist-packages/keras/backend/tensorflow_backend.py:3005: The name tf.Session is deprecated. Please use tf.compat.v1.Session instead.\n",
            "\n",
            "Train on 60000 samples, validate on 10000 samples\n",
            "Epoch 1/10\n",
            "WARNING:tensorflow:From /usr/local/lib/python3.6/dist-packages/keras/backend/tensorflow_backend.py:190: The name tf.get_default_session is deprecated. Please use tf.compat.v1.get_default_session instead.\n",
            "\n",
            "WARNING:tensorflow:From /usr/local/lib/python3.6/dist-packages/keras/backend/tensorflow_backend.py:197: The name tf.ConfigProto is deprecated. Please use tf.compat.v1.ConfigProto instead.\n",
            "\n",
            "WARNING:tensorflow:From /usr/local/lib/python3.6/dist-packages/keras/backend/tensorflow_backend.py:207: The name tf.global_variables is deprecated. Please use tf.compat.v1.global_variables instead.\n",
            "\n",
            "WARNING:tensorflow:From /usr/local/lib/python3.6/dist-packages/keras/backend/tensorflow_backend.py:216: The name tf.is_variable_initialized is deprecated. Please use tf.compat.v1.is_variable_initialized instead.\n",
            "\n",
            "WARNING:tensorflow:From /usr/local/lib/python3.6/dist-packages/keras/backend/tensorflow_backend.py:223: The name tf.variables_initializer is deprecated. Please use tf.compat.v1.variables_initializer instead.\n",
            "\n",
            "60000/60000 [==============================] - 12s 192us/step - loss: 0.2886 - acc: 0.9120 - val_loss: 0.1550 - val_acc: 0.9538\n",
            "\n",
            "Epoch 00001: val_acc improved from -inf to 0.95380, saving model to weights-improvement-01-0.95.hdf5\n",
            "Epoch 2/10\n",
            "60000/60000 [==============================] - 2s 30us/step - loss: 0.1244 - acc: 0.9617 - val_loss: 0.1013 - val_acc: 0.9702\n",
            "\n",
            "Epoch 00002: val_acc improved from 0.95380 to 0.97020, saving model to weights-improvement-02-0.97.hdf5\n",
            "Epoch 3/10\n",
            "60000/60000 [==============================] - 2s 34us/step - loss: 0.0842 - acc: 0.9733 - val_loss: 0.0877 - val_acc: 0.9728\n",
            "\n",
            "Epoch 00003: val_acc improved from 0.97020 to 0.97280, saving model to weights-improvement-03-0.97.hdf5\n",
            "Epoch 4/10\n",
            "60000/60000 [==============================] - 2s 32us/step - loss: 0.0633 - acc: 0.9799 - val_loss: 0.0860 - val_acc: 0.9721\n",
            "\n",
            "Epoch 00004: val_acc did not improve from 0.97280\n",
            "Epoch 5/10\n",
            "60000/60000 [==============================] - 2s 32us/step - loss: 0.0507 - acc: 0.9838 - val_loss: 0.0928 - val_acc: 0.9732\n",
            "\n",
            "Epoch 00005: val_acc improved from 0.97280 to 0.97320, saving model to weights-improvement-05-0.97.hdf5\n",
            "Epoch 6/10\n",
            "60000/60000 [==============================] - 2s 33us/step - loss: 0.0416 - acc: 0.9866 - val_loss: 0.0842 - val_acc: 0.9766\n",
            "\n",
            "Epoch 00006: val_acc improved from 0.97320 to 0.97660, saving model to weights-improvement-06-0.98.hdf5\n",
            "Epoch 7/10\n",
            "60000/60000 [==============================] - 2s 30us/step - loss: 0.0330 - acc: 0.9890 - val_loss: 0.0884 - val_acc: 0.9764\n",
            "\n",
            "Epoch 00007: val_acc did not improve from 0.97660\n",
            "Epoch 8/10\n",
            "60000/60000 [==============================] - 2s 31us/step - loss: 0.0283 - acc: 0.9906 - val_loss: 0.0856 - val_acc: 0.9779\n",
            "\n",
            "Epoch 00008: val_acc improved from 0.97660 to 0.97790, saving model to weights-improvement-08-0.98.hdf5\n",
            "Epoch 9/10\n",
            "60000/60000 [==============================] - 2s 32us/step - loss: 0.0229 - acc: 0.9925 - val_loss: 0.0974 - val_acc: 0.9766\n",
            "\n",
            "Epoch 00009: val_acc did not improve from 0.97790\n",
            "Epoch 10/10\n",
            "60000/60000 [==============================] - 2s 32us/step - loss: 0.0200 - acc: 0.9935 - val_loss: 0.0774 - val_acc: 0.9816\n",
            "\n",
            "Epoch 00010: val_acc improved from 0.97790 to 0.98160, saving model to weights-improvement-10-0.98.hdf5\n"
          ],
          "name": "stdout"
        },
        {
          "output_type": "execute_result",
          "data": {
            "text/plain": [
              "<keras.callbacks.History at 0x7f292b2ebba8>"
            ]
          },
          "metadata": {
            "tags": []
          },
          "execution_count": 1
        }
      ]
    },
    {
      "cell_type": "markdown",
      "metadata": {
        "id": "Jveut6hlv4vM",
        "colab_type": "text"
      },
      "source": [
        "#Create checkpoint for storing best model only\n",
        "\n",
        "A simpler check-point strategy is to save the model weights to the same file, if and only if the validation accuracy improves.\n",
        "\n",
        "This can be done easily using the same code from above and changing the output filename to be fixed (not include score or epoch information).\n",
        "\n",
        "In this case, model weights are written to the file “weights.best.hdf5” only if the classification accuracy of the model on the validation dataset improves over the best seen so far."
      ]
    },
    {
      "cell_type": "code",
      "metadata": {
        "id": "4SoNDAjwwAX5",
        "colab_type": "code",
        "colab": {
          "base_uri": "https://localhost:8080/",
          "height": 731
        },
        "outputId": "b66fecb9-d6f5-4cd8-e8a4-06b31c84f681"
      },
      "source": [
        "import keras\n",
        "from keras import models\n",
        "from keras.layers import Dense, Dropout\n",
        "from keras.utils import to_categorical\n",
        "from keras.datasets import mnist\n",
        "from keras.utils.vis_utils import model_to_dot\n",
        "from IPython.display import SVG\n",
        "from keras.callbacks import ModelCheckpoint\n",
        "\n",
        "NUM_ROWS = 28\n",
        "NUM_COLS = 28\n",
        "NUM_CLASSES = 10\n",
        "BATCH_SIZE = 128\n",
        "EPOCHS = 10\n",
        "\n",
        "# Load data\n",
        "(X_train, y_train), (X_test, y_test) = mnist.load_data()\n",
        "\n",
        "# Reshape data\n",
        "X_train = X_train.reshape((X_train.shape[0], NUM_ROWS * NUM_COLS))\n",
        "X_train = X_train.astype('float32') / 255\n",
        "X_test = X_test.reshape((X_test.shape[0], NUM_ROWS * NUM_COLS))\n",
        "X_test = X_test.astype('float32') / 255\n",
        "\n",
        "# Categorically encode labels\n",
        "y_train = to_categorical(y_train, NUM_CLASSES)\n",
        "y_test = to_categorical(y_test, NUM_CLASSES)\n",
        "\n",
        "\n",
        "# Build neural network\n",
        "model = models.Sequential()\n",
        "model.add(Dense(512, activation='elu', input_shape=(NUM_ROWS * NUM_COLS,)))\n",
        "model.add(Dense(256, activation='elu'))\n",
        "model.add(Dense(10, activation='softmax'))\n",
        "\n",
        "# Compile model\n",
        "model.compile(optimizer='rmsprop',\n",
        "              loss='categorical_crossentropy',\n",
        "              metrics=['accuracy'])\n",
        "\n",
        "\n",
        "\n",
        "# checkpoint\n",
        "filepath=\"weights.best.hdf5\"\n",
        "checkpoint = ModelCheckpoint(filepath, monitor='val_acc', verbose=1, save_best_only=True, mode='max')\n",
        "callbacks_list = [checkpoint]\n",
        "\n",
        "\n",
        "# Train model\n",
        "model.fit(X_train, y_train,\n",
        "          batch_size=BATCH_SIZE,\n",
        "          epochs=EPOCHS,\n",
        "          verbose=1,\n",
        "          validation_data=(X_test, y_test), callbacks=callbacks_list)\n",
        "\n",
        "\n"
      ],
      "execution_count": 2,
      "outputs": [
        {
          "output_type": "stream",
          "text": [
            "Train on 60000 samples, validate on 10000 samples\n",
            "Epoch 1/10\n",
            "60000/60000 [==============================] - 2s 35us/step - loss: 0.2882 - acc: 0.9113 - val_loss: 0.1315 - val_acc: 0.9596\n",
            "\n",
            "Epoch 00001: val_acc improved from -inf to 0.95960, saving model to weights.best.hdf5\n",
            "Epoch 2/10\n",
            "60000/60000 [==============================] - 2s 34us/step - loss: 0.1204 - acc: 0.9632 - val_loss: 0.1518 - val_acc: 0.9519\n",
            "\n",
            "Epoch 00002: val_acc did not improve from 0.95960\n",
            "Epoch 3/10\n",
            "60000/60000 [==============================] - 2s 33us/step - loss: 0.0849 - acc: 0.9742 - val_loss: 0.1160 - val_acc: 0.9627\n",
            "\n",
            "Epoch 00003: val_acc improved from 0.95960 to 0.96270, saving model to weights.best.hdf5\n",
            "Epoch 4/10\n",
            "60000/60000 [==============================] - 2s 31us/step - loss: 0.0633 - acc: 0.9799 - val_loss: 0.1067 - val_acc: 0.9673\n",
            "\n",
            "Epoch 00004: val_acc improved from 0.96270 to 0.96730, saving model to weights.best.hdf5\n",
            "Epoch 5/10\n",
            "60000/60000 [==============================] - 2s 31us/step - loss: 0.0508 - acc: 0.9837 - val_loss: 0.0963 - val_acc: 0.9720\n",
            "\n",
            "Epoch 00005: val_acc improved from 0.96730 to 0.97200, saving model to weights.best.hdf5\n",
            "Epoch 6/10\n",
            "60000/60000 [==============================] - 2s 30us/step - loss: 0.0414 - acc: 0.9871 - val_loss: 0.0820 - val_acc: 0.9767\n",
            "\n",
            "Epoch 00006: val_acc improved from 0.97200 to 0.97670, saving model to weights.best.hdf5\n",
            "Epoch 7/10\n",
            "60000/60000 [==============================] - 2s 32us/step - loss: 0.0330 - acc: 0.9890 - val_loss: 0.0847 - val_acc: 0.9778\n",
            "\n",
            "Epoch 00007: val_acc improved from 0.97670 to 0.97780, saving model to weights.best.hdf5\n",
            "Epoch 8/10\n",
            "60000/60000 [==============================] - 2s 32us/step - loss: 0.0279 - acc: 0.9909 - val_loss: 0.0843 - val_acc: 0.9800\n",
            "\n",
            "Epoch 00008: val_acc improved from 0.97780 to 0.98000, saving model to weights.best.hdf5\n",
            "Epoch 9/10\n",
            "60000/60000 [==============================] - 2s 33us/step - loss: 0.0234 - acc: 0.9925 - val_loss: 0.0987 - val_acc: 0.9746\n",
            "\n",
            "Epoch 00009: val_acc did not improve from 0.98000\n",
            "Epoch 10/10\n",
            "60000/60000 [==============================] - 2s 29us/step - loss: 0.0199 - acc: 0.9932 - val_loss: 0.1028 - val_acc: 0.9769\n",
            "\n",
            "Epoch 00010: val_acc did not improve from 0.98000\n"
          ],
          "name": "stdout"
        },
        {
          "output_type": "execute_result",
          "data": {
            "text/plain": [
              "<keras.callbacks.History at 0x7f29200ade80>"
            ]
          },
          "metadata": {
            "tags": []
          },
          "execution_count": 2
        }
      ]
    },
    {
      "cell_type": "markdown",
      "metadata": {
        "id": "my7CaRnYwPsC",
        "colab_type": "text"
      },
      "source": [
        "#Loading a Check-Pointed Neural Network Model\n",
        "\n",
        "After the model is saved , we can use it to make predictions"
      ]
    },
    {
      "cell_type": "code",
      "metadata": {
        "id": "eyuYyP-XwhdP",
        "colab_type": "code",
        "colab": {
          "base_uri": "https://localhost:8080/",
          "height": 34
        },
        "outputId": "755eccce-102b-4db2-ff1e-4706606c4640"
      },
      "source": [
        "import numpy as np\n",
        "import keras\n",
        "from keras import models\n",
        "#Create new model\n",
        "model_new = models.Sequential()\n",
        "model_new.add(Dense(512, activation='elu', input_shape=(NUM_ROWS * NUM_COLS,)))\n",
        "model_new.add(Dense(256, activation='elu'))\n",
        "model_new.add(Dense(10, activation='softmax'))\n",
        "\n",
        "model_new.load_weights(\"weights.best.hdf5\")\n",
        "\n",
        "# Compile model\n",
        "model_new.compile(optimizer='rmsprop',\n",
        "              loss='categorical_crossentropy',\n",
        "              metrics=['accuracy'])\n",
        "\n",
        "X_total=np.concatenate((X_train,X_test))\n",
        "y_total=np.concatenate((y_train,y_test))\n",
        "\n",
        "scores = model_new.evaluate(X_total, y_total, verbose=0)\n",
        "print(\"%s: %.2f%%\" % (model_new.metrics_names[1], scores[1]*100))"
      ],
      "execution_count": 3,
      "outputs": [
        {
          "output_type": "stream",
          "text": [
            "acc: 99.16%\n"
          ],
          "name": "stdout"
        }
      ]
    },
    {
      "cell_type": "markdown",
      "metadata": {
        "id": "mMNmXQvYz-O_",
        "colab_type": "text"
      },
      "source": [
        "#Thank you for completing this notebook\n"
      ]
    },
    {
      "cell_type": "markdown",
      "metadata": {
        "id": "AKYSuqxxRpOb",
        "colab_type": "text"
      },
      "source": [
        "**CIFAR 10**"
      ]
    },
    {
      "cell_type": "code",
      "metadata": {
        "id": "fTCHlGwMPU5a",
        "colab_type": "code",
        "outputId": "4bcb5700-3384-433c-cf83-27af3f156dbb",
        "colab": {
          "base_uri": "https://localhost:8080/",
          "height": 765
        }
      },
      "source": [
        "from keras.datasets import cifar10\n",
        "from keras.models import Sequential\n",
        "from keras.layers import Dense, Dropout, Activation, Flatten\n",
        "from keras.utils import to_categorical\n",
        "\n",
        "#import dataset\n",
        "(X_train, Y_train), (X_test, Y_test) = cifar10.load_data()\n",
        "\n",
        "#change shape from image to vector\n",
        "X_train = X_train.reshape(50000, 32 * 32 * 3)\n",
        "X_test = X_test.reshape(10000, 32 * 32 * 3)\n",
        "\n",
        "#preprocess\n",
        "X_train = X_train.astype('float32')\n",
        "X_test = X_test.astype('float32')\n",
        "X_train /= 255.0\n",
        "X_test /= 255.0\n",
        "\n",
        "#change labels from numeric to one hot encoded\n",
        "Y_train = to_categorical(Y_train, 10)\n",
        "Y_test =  to_categorical(Y_test, 10)\n",
        "\n",
        "#Model building\n",
        "model = Sequential()\n",
        "model.add(Dense(1024, input_shape=(3072, )))\n",
        "model.add(Activation('relu'))\n",
        "model.add(Dense(512))\n",
        "model.add(Activation('relu'))\n",
        "model.add(Dense(512))\n",
        "model.add(Activation('relu'))\n",
        "model.add(Dense(10))\n",
        "model.add(Activation('softmax'))\n",
        "\n",
        "\n",
        "# Compile model using above optimizer\n",
        "model.compile(optimizer='rmsprop',\n",
        "              loss='categorical_crossentropy',\n",
        "              metrics=['accuracy'])\n",
        "\n",
        "filepath=\"weights.best.hdf5\"\n",
        "checkpoint = ModelCheckpoint(filepath, monitor='val_acc', verbose=1, save_best_only=True, mode='max')\n",
        "callbacks_list = [checkpoint]\n",
        "\n",
        "model.fit(X_train, Y_train,\n",
        "          batch_size=BATCH_SIZE,\n",
        "          epochs=EPOCHS,\n",
        "          verbose=1,\n",
        "          validation_data=(X_test, Y_test), callbacks=callbacks_list)\n",
        "\n",
        "\n"
      ],
      "execution_count": 4,
      "outputs": [
        {
          "output_type": "stream",
          "text": [
            "Downloading data from https://www.cs.toronto.edu/~kriz/cifar-10-python.tar.gz\n",
            "170500096/170498071 [==============================] - 2s 0us/step\n",
            "Train on 50000 samples, validate on 10000 samples\n",
            "Epoch 1/10\n",
            "50000/50000 [==============================] - 3s 59us/step - loss: 2.8480 - acc: 0.2407 - val_loss: 1.8208 - val_acc: 0.3453\n",
            "\n",
            "Epoch 00001: val_acc improved from -inf to 0.34530, saving model to weights.best.hdf5\n",
            "Epoch 2/10\n",
            "50000/50000 [==============================] - 3s 54us/step - loss: 1.8147 - acc: 0.3452 - val_loss: 1.9994 - val_acc: 0.2792\n",
            "\n",
            "Epoch 00002: val_acc did not improve from 0.34530\n",
            "Epoch 3/10\n",
            "50000/50000 [==============================] - 3s 55us/step - loss: 1.7083 - acc: 0.3919 - val_loss: 1.6990 - val_acc: 0.4050\n",
            "\n",
            "Epoch 00003: val_acc improved from 0.34530 to 0.40500, saving model to weights.best.hdf5\n",
            "Epoch 4/10\n",
            "50000/50000 [==============================] - 3s 54us/step - loss: 1.6318 - acc: 0.4145 - val_loss: 1.6691 - val_acc: 0.4082\n",
            "\n",
            "Epoch 00004: val_acc improved from 0.40500 to 0.40820, saving model to weights.best.hdf5\n",
            "Epoch 5/10\n",
            "50000/50000 [==============================] - 3s 52us/step - loss: 1.5803 - acc: 0.4362 - val_loss: 1.5336 - val_acc: 0.4556\n",
            "\n",
            "Epoch 00005: val_acc improved from 0.40820 to 0.45560, saving model to weights.best.hdf5\n",
            "Epoch 6/10\n",
            "50000/50000 [==============================] - 3s 53us/step - loss: 1.5359 - acc: 0.4525 - val_loss: 1.5799 - val_acc: 0.4328\n",
            "\n",
            "Epoch 00006: val_acc did not improve from 0.45560\n",
            "Epoch 7/10\n",
            "50000/50000 [==============================] - 3s 52us/step - loss: 1.5005 - acc: 0.4634 - val_loss: 1.7478 - val_acc: 0.3985\n",
            "\n",
            "Epoch 00007: val_acc did not improve from 0.45560\n",
            "Epoch 8/10\n",
            "50000/50000 [==============================] - 3s 53us/step - loss: 1.4679 - acc: 0.4764 - val_loss: 1.5332 - val_acc: 0.4576\n",
            "\n",
            "Epoch 00008: val_acc improved from 0.45560 to 0.45760, saving model to weights.best.hdf5\n",
            "Epoch 9/10\n",
            "50000/50000 [==============================] - 3s 52us/step - loss: 1.4421 - acc: 0.4846 - val_loss: 1.6129 - val_acc: 0.4411\n",
            "\n",
            "Epoch 00009: val_acc did not improve from 0.45760\n",
            "Epoch 10/10\n",
            "50000/50000 [==============================] - 3s 52us/step - loss: 1.4196 - acc: 0.4948 - val_loss: 1.5902 - val_acc: 0.4442\n",
            "\n",
            "Epoch 00010: val_acc did not improve from 0.45760\n"
          ],
          "name": "stdout"
        },
        {
          "output_type": "execute_result",
          "data": {
            "text/plain": [
              "<keras.callbacks.History at 0x7f290c305f60>"
            ]
          },
          "metadata": {
            "tags": []
          },
          "execution_count": 4
        }
      ]
    },
    {
      "cell_type": "markdown",
      "metadata": {
        "id": "6rjBcZ7iSg-1",
        "colab_type": "text"
      },
      "source": [
        "**CIFAR 100**"
      ]
    },
    {
      "cell_type": "code",
      "metadata": {
        "id": "5NMR-ZzkSBc7",
        "colab_type": "code",
        "outputId": "1fae9802-6afd-433b-9ca8-ea485b856eca",
        "colab": {
          "base_uri": "https://localhost:8080/",
          "height": 765
        }
      },
      "source": [
        "from keras.datasets import cifar100\n",
        "from keras.models import Sequential\n",
        "from keras.layers import Dense, Dropout, Activation, Flatten\n",
        "from keras.utils import to_categorical\n",
        "\n",
        "#import dataset\n",
        "(X_train, Y_train), (X_test, Y_test) = cifar100.load_data()\n",
        "\n",
        "#change shape from image to vector\n",
        "X_train = X_train.reshape(50000, 32 * 32 * 3)\n",
        "X_test = X_test.reshape(10000, 32 * 32 * 3)\n",
        "\n",
        "#preprocess\n",
        "X_train = X_train.astype('float32')\n",
        "X_test = X_test.astype('float32')\n",
        "X_train /= 255.0\n",
        "X_test /= 255.0\n",
        "\n",
        "#change labels from numeric to one hot encoded\n",
        "Y_train = to_categorical(Y_train, 100)\n",
        "Y_test =  to_categorical(Y_test, 100)\n",
        "\n",
        "#Model building\n",
        "model = Sequential()\n",
        "model.add(Dense(1024, input_shape=(3072, )))\n",
        "model.add(Activation('relu'))\n",
        "model.add(Dense(512))\n",
        "model.add(Activation('relu'))\n",
        "model.add(Dense(512))\n",
        "model.add(Activation('relu'))\n",
        "model.add(Dense(100))\n",
        "model.add(Activation('softmax'))\n",
        "\n",
        "# Compile model using above optimizer\n",
        "model.compile(optimizer='rmsprop',\n",
        "              loss='categorical_crossentropy',\n",
        "              metrics=['accuracy'])\n",
        "\n",
        "filepath=\"weights.best.hdf5\"\n",
        "checkpoint = ModelCheckpoint(filepath, monitor='val_acc', verbose=1, save_best_only=True, mode='max')\n",
        "callbacks_list = [checkpoint]\n",
        "\n",
        "model.fit(X_train, Y_train,\n",
        "          batch_size=BATCH_SIZE,\n",
        "          epochs=EPOCHS,\n",
        "          verbose=1,\n",
        "          validation_data=(X_test, Y_test), callbacks=callbacks_list)\n"
      ],
      "execution_count": 5,
      "outputs": [
        {
          "output_type": "stream",
          "text": [
            "Downloading data from https://www.cs.toronto.edu/~kriz/cifar-100-python.tar.gz\n",
            "169009152/169001437 [==============================] - 2s 0us/step\n",
            "Train on 50000 samples, validate on 10000 samples\n",
            "Epoch 1/10\n",
            "50000/50000 [==============================] - 3s 60us/step - loss: 4.2738 - acc: 0.0603 - val_loss: 4.0022 - val_acc: 0.0817\n",
            "\n",
            "Epoch 00001: val_acc improved from -inf to 0.08170, saving model to weights.best.hdf5\n",
            "Epoch 2/10\n",
            "50000/50000 [==============================] - 3s 54us/step - loss: 3.7897 - acc: 0.1198 - val_loss: 3.8085 - val_acc: 0.1220\n",
            "\n",
            "Epoch 00002: val_acc improved from 0.08170 to 0.12200, saving model to weights.best.hdf5\n",
            "Epoch 3/10\n",
            "50000/50000 [==============================] - 3s 52us/step - loss: 3.6031 - acc: 0.1509 - val_loss: 3.5533 - val_acc: 0.1614\n",
            "\n",
            "Epoch 00003: val_acc improved from 0.12200 to 0.16140, saving model to weights.best.hdf5\n",
            "Epoch 4/10\n",
            "50000/50000 [==============================] - 3s 56us/step - loss: 3.4653 - acc: 0.1761 - val_loss: 3.6458 - val_acc: 0.1597\n",
            "\n",
            "Epoch 00004: val_acc did not improve from 0.16140\n",
            "Epoch 5/10\n",
            "50000/50000 [==============================] - 3s 55us/step - loss: 3.3547 - acc: 0.1948 - val_loss: 3.4124 - val_acc: 0.1981\n",
            "\n",
            "Epoch 00005: val_acc improved from 0.16140 to 0.19810, saving model to weights.best.hdf5\n",
            "Epoch 6/10\n",
            "50000/50000 [==============================] - 3s 54us/step - loss: 3.2674 - acc: 0.2106 - val_loss: 3.6087 - val_acc: 0.1727\n",
            "\n",
            "Epoch 00006: val_acc did not improve from 0.19810\n",
            "Epoch 7/10\n",
            "50000/50000 [==============================] - 3s 54us/step - loss: 3.1920 - acc: 0.2212 - val_loss: 3.5570 - val_acc: 0.1765\n",
            "\n",
            "Epoch 00007: val_acc did not improve from 0.19810\n",
            "Epoch 8/10\n",
            "50000/50000 [==============================] - 3s 54us/step - loss: 3.1200 - acc: 0.2386 - val_loss: 3.3857 - val_acc: 0.2092\n",
            "\n",
            "Epoch 00008: val_acc improved from 0.19810 to 0.20920, saving model to weights.best.hdf5\n",
            "Epoch 9/10\n",
            "50000/50000 [==============================] - 3s 53us/step - loss: 3.0607 - acc: 0.2495 - val_loss: 3.3980 - val_acc: 0.2120\n",
            "\n",
            "Epoch 00009: val_acc improved from 0.20920 to 0.21200, saving model to weights.best.hdf5\n",
            "Epoch 10/10\n",
            "50000/50000 [==============================] - 3s 53us/step - loss: 3.0034 - acc: 0.2606 - val_loss: 3.6177 - val_acc: 0.1964\n",
            "\n",
            "Epoch 00010: val_acc did not improve from 0.21200\n"
          ],
          "name": "stdout"
        },
        {
          "output_type": "execute_result",
          "data": {
            "text/plain": [
              "<keras.callbacks.History at 0x7f290c293278>"
            ]
          },
          "metadata": {
            "tags": []
          },
          "execution_count": 5
        }
      ]
    },
    {
      "cell_type": "markdown",
      "metadata": {
        "id": "K8Zju_TZSk_G",
        "colab_type": "text"
      },
      "source": [
        "**FASHION_MNIST**"
      ]
    },
    {
      "cell_type": "code",
      "metadata": {
        "id": "Q9eBOG8PSnwb",
        "colab_type": "code",
        "outputId": "daedc71f-7c80-421b-a960-f991380662c4",
        "colab": {
          "base_uri": "https://localhost:8080/",
          "height": 867
        }
      },
      "source": [
        "import keras\n",
        "from keras import models\n",
        "from keras.layers import Dense, Dropout\n",
        "from keras.utils import to_categorical\n",
        "from keras.datasets import fashion_mnist\n",
        "from keras.utils.vis_utils import model_to_dot\n",
        "from IPython.display import SVG\n",
        "\n",
        "NUM_ROWS = 28\n",
        "NUM_COLS = 28\n",
        "NUM_CLASSES = 10\n",
        "BATCH_SIZE = 128\n",
        "EPOCHS = 10\n",
        "\n",
        "# Load data\n",
        "(X_train, Y_train), (X_test, Y_test) = fashion_mnist.load_data()\n",
        "\n",
        "\n",
        "\n",
        "# Reshape data\n",
        "X_train = X_train.reshape((X_train.shape[0], NUM_ROWS * NUM_COLS))\n",
        "X_train = X_train.astype('float32') / 255\n",
        "X_test = X_test.reshape((X_test.shape[0], NUM_ROWS * NUM_COLS))\n",
        "X_test = X_test.astype('float32') / 255\n",
        "\n",
        "# Categorically encode labels\n",
        "Y_train = to_categorical(Y_train, NUM_CLASSES)\n",
        "Y_test = to_categorical(Y_test, NUM_CLASSES)\n",
        "\n",
        "\n",
        "# Build neural network\n",
        "model = models.Sequential()\n",
        "model.add(Dense(512, activation='relu', input_shape=(NUM_ROWS * NUM_COLS,)))\n",
        "model.add(Dense(256, activation='relu'))\n",
        "model.add(Dense(10, activation='softmax'))\n",
        "\n",
        "# Compile model using above optimizer\n",
        "model.compile(optimizer='rmsprop',\n",
        "              loss='categorical_crossentropy',\n",
        "              metrics=['accuracy'])\n",
        "\n",
        "filepath=\"weights.best.hdf5\"\n",
        "checkpoint = ModelCheckpoint(filepath, monitor='val_acc', verbose=1, save_best_only=True, mode='max')\n",
        "callbacks_list = [checkpoint]\n",
        "\n",
        "model.fit(X_train, Y_train,\n",
        "          batch_size=BATCH_SIZE,\n",
        "          epochs=EPOCHS,\n",
        "          verbose=1,\n",
        "          validation_data=(X_test, Y_test), callbacks=callbacks_list)"
      ],
      "execution_count": 6,
      "outputs": [
        {
          "output_type": "stream",
          "text": [
            "Downloading data from http://fashion-mnist.s3-website.eu-central-1.amazonaws.com/train-labels-idx1-ubyte.gz\n",
            "32768/29515 [=================================] - 0s 7us/step\n",
            "Downloading data from http://fashion-mnist.s3-website.eu-central-1.amazonaws.com/train-images-idx3-ubyte.gz\n",
            "26427392/26421880 [==============================] - 2s 0us/step\n",
            "Downloading data from http://fashion-mnist.s3-website.eu-central-1.amazonaws.com/t10k-labels-idx1-ubyte.gz\n",
            "8192/5148 [===============================================] - 0s 0us/step\n",
            "Downloading data from http://fashion-mnist.s3-website.eu-central-1.amazonaws.com/t10k-images-idx3-ubyte.gz\n",
            "4423680/4422102 [==============================] - 1s 0us/step\n",
            "Train on 60000 samples, validate on 10000 samples\n",
            "Epoch 1/10\n",
            "60000/60000 [==============================] - 2s 37us/step - loss: 0.5384 - acc: 0.8036 - val_loss: 0.4024 - val_acc: 0.8548\n",
            "\n",
            "Epoch 00001: val_acc improved from -inf to 0.85480, saving model to weights.best.hdf5\n",
            "Epoch 2/10\n",
            "60000/60000 [==============================] - 2s 31us/step - loss: 0.3778 - acc: 0.8606 - val_loss: 0.4242 - val_acc: 0.8461\n",
            "\n",
            "Epoch 00002: val_acc did not improve from 0.85480\n",
            "Epoch 3/10\n",
            "60000/60000 [==============================] - 2s 33us/step - loss: 0.3336 - acc: 0.8757 - val_loss: 0.4115 - val_acc: 0.8556\n",
            "\n",
            "Epoch 00003: val_acc improved from 0.85480 to 0.85560, saving model to weights.best.hdf5\n",
            "Epoch 4/10\n",
            "60000/60000 [==============================] - 2s 34us/step - loss: 0.3110 - acc: 0.8849 - val_loss: 0.3460 - val_acc: 0.8784\n",
            "\n",
            "Epoch 00004: val_acc improved from 0.85560 to 0.87840, saving model to weights.best.hdf5\n",
            "Epoch 5/10\n",
            "60000/60000 [==============================] - 2s 31us/step - loss: 0.2915 - acc: 0.8920 - val_loss: 0.3686 - val_acc: 0.8700\n",
            "\n",
            "Epoch 00005: val_acc did not improve from 0.87840\n",
            "Epoch 6/10\n",
            "60000/60000 [==============================] - 2s 32us/step - loss: 0.2768 - acc: 0.8969 - val_loss: 0.3499 - val_acc: 0.8843\n",
            "\n",
            "Epoch 00006: val_acc improved from 0.87840 to 0.88430, saving model to weights.best.hdf5\n",
            "Epoch 7/10\n",
            "60000/60000 [==============================] - 2s 32us/step - loss: 0.2663 - acc: 0.9012 - val_loss: 0.3837 - val_acc: 0.8730\n",
            "\n",
            "Epoch 00007: val_acc did not improve from 0.88430\n",
            "Epoch 8/10\n",
            "60000/60000 [==============================] - 2s 32us/step - loss: 0.2572 - acc: 0.9044 - val_loss: 0.3484 - val_acc: 0.8820\n",
            "\n",
            "Epoch 00008: val_acc did not improve from 0.88430\n",
            "Epoch 9/10\n",
            "60000/60000 [==============================] - 2s 31us/step - loss: 0.2462 - acc: 0.9097 - val_loss: 0.3978 - val_acc: 0.8710\n",
            "\n",
            "Epoch 00009: val_acc did not improve from 0.88430\n",
            "Epoch 10/10\n",
            "60000/60000 [==============================] - 2s 33us/step - loss: 0.2405 - acc: 0.9113 - val_loss: 0.4118 - val_acc: 0.8669\n",
            "\n",
            "Epoch 00010: val_acc did not improve from 0.88430\n"
          ],
          "name": "stdout"
        },
        {
          "output_type": "execute_result",
          "data": {
            "text/plain": [
              "<keras.callbacks.History at 0x7f290c1690b8>"
            ]
          },
          "metadata": {
            "tags": []
          },
          "execution_count": 6
        }
      ]
    },
    {
      "cell_type": "code",
      "metadata": {
        "id": "XFUW6Ug7QySQ",
        "colab_type": "code",
        "colab": {}
      },
      "source": [
        ""
      ],
      "execution_count": 0,
      "outputs": []
    }
  ]
}