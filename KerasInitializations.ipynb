{
  "nbformat": 4,
  "nbformat_minor": 0,
  "metadata": {
    "colab": {
      "name": "KerasInitializations.ipynb",
      "provenance": [],
      "collapsed_sections": [],
      "include_colab_link": true
    },
    "kernelspec": {
      "name": "python3",
      "display_name": "Python 3"
    },
    "accelerator": "GPU"
  },
  "cells": [
    {
      "cell_type": "markdown",
      "metadata": {
        "id": "view-in-github",
        "colab_type": "text"
      },
      "source": [
        "<a href=\"https://colab.research.google.com/github/lovishkanther11/Deep-Learning/blob/master/KerasInitializations.ipynb\" target=\"_parent\"><img src=\"https://colab.research.google.com/assets/colab-badge.svg\" alt=\"Open In Colab\"/></a>"
      ]
    },
    {
      "cell_type": "markdown",
      "metadata": {
        "id": "R7HfTHNo-aXK",
        "colab_type": "text"
      },
      "source": [
        "#Usage of initializers\n",
        "\n",
        "Initializations define the way to set the initial random weights of Keras layers.\n",
        "\n",
        "The keyword arguments used for passing initializers to layers will depend on the layer. Usually it is simply kernel_initializer and bias_initializer:\n",
        "\n",
        "Lets test the various initializations of weights on our baseline model."
      ]
    },
    {
      "cell_type": "markdown",
      "metadata": {
        "id": "a8WJIsdG_Sz_",
        "colab_type": "text"
      },
      "source": [
        "# Baseline model for classification on CIFAR10 dataset"
      ]
    },
    {
      "cell_type": "code",
      "metadata": {
        "id": "09sdc-v8-HTt",
        "colab_type": "code",
        "outputId": "1dbbf7af-6ccc-491e-ec5a-192e0218f6f6",
        "colab": {
          "base_uri": "https://localhost:8080/",
          "height": 218
        }
      },
      "source": [
        "#import packages\n",
        "from keras.datasets import cifar10\n",
        "from keras.models import Sequential\n",
        "from keras.layers import Dense, Dropout, Activation, Flatten\n",
        "from keras.utils import to_categorical\n",
        "\n",
        "#import dataset\n",
        "(X_train, y_train), (X_test, y_test) = cifar10.load_data()\n",
        "\n",
        "#change shape from image to vector\n",
        "X_train = X_train.reshape(50000, 32 * 32 * 3)\n",
        "X_test = X_test.reshape(10000, 32 * 32 * 3)\n",
        "\n",
        "#preprocess\n",
        "X_train = X_train.astype('float32')\n",
        "X_test = X_test.astype('float32')\n",
        "X_train /= 255.0\n",
        "X_test /= 255.0\n",
        "\n",
        "#change labels from numeric to one hot encoded\n",
        "Y_train = to_categorical(y_train, 10)\n",
        "Y_test =  to_categorical(y_test, 10)\n",
        "\n",
        "#Model building\n",
        "model = Sequential()\n",
        "model.add(Dense(1024, input_shape=(3072, )))\n",
        "model.add(Activation('relu'))\n",
        "model.add(Dense(512))\n",
        "model.add(Activation('relu'))\n",
        "model.add(Dense(512))\n",
        "model.add(Activation('relu'))\n",
        "model.add(Dense(10))\n",
        "model.add(Activation('softmax'))\n",
        "\n",
        "model.compile(loss='categorical_crossentropy',\n",
        "                  optimizer='adam',\n",
        "                  metrics=['accuracy'])\n",
        "    \n",
        " \n",
        "\n",
        "# training\n",
        "history = model.fit(X_train, Y_train,\n",
        "                        batch_size=128,\n",
        "                        nb_epoch=5,\n",
        "                        verbose=1,\n",
        "                        validation_data=(X_test, Y_test))"
      ],
      "execution_count": 0,
      "outputs": [
        {
          "output_type": "stream",
          "text": [
            "/usr/local/lib/python3.6/dist-packages/ipykernel_launcher.py:45: UserWarning: The `nb_epoch` argument in `fit` has been renamed `epochs`.\n"
          ],
          "name": "stderr"
        },
        {
          "output_type": "stream",
          "text": [
            "Train on 50000 samples, validate on 10000 samples\n",
            "Epoch 1/5\n",
            "50000/50000 [==============================] - 5s 100us/step - loss: 1.8911 - acc: 0.3180 - val_loss: 1.7376 - val_acc: 0.3732\n",
            "Epoch 2/5\n",
            "50000/50000 [==============================] - 4s 86us/step - loss: 1.6823 - acc: 0.3972 - val_loss: 1.6018 - val_acc: 0.4304\n",
            "Epoch 3/5\n",
            "50000/50000 [==============================] - 4s 86us/step - loss: 1.5909 - acc: 0.4303 - val_loss: 1.5875 - val_acc: 0.4371\n",
            "Epoch 4/5\n",
            "50000/50000 [==============================] - 4s 86us/step - loss: 1.5178 - acc: 0.4566 - val_loss: 1.5174 - val_acc: 0.4667\n",
            "Epoch 5/5\n",
            "50000/50000 [==============================] - 4s 86us/step - loss: 1.4716 - acc: 0.4753 - val_loss: 1.4804 - val_acc: 0.4754\n"
          ],
          "name": "stdout"
        }
      ]
    },
    {
      "cell_type": "markdown",
      "metadata": {
        "id": "ymoVRayJ_v1V",
        "colab_type": "text"
      },
      "source": [
        "# Model with Initializer as random uniform and zero"
      ]
    },
    {
      "cell_type": "code",
      "metadata": {
        "id": "LavTm0MQ_6ZO",
        "colab_type": "code",
        "outputId": "e1e498ca-adb0-4406-a169-fee64877128c",
        "colab": {
          "base_uri": "https://localhost:8080/",
          "height": 218
        }
      },
      "source": [
        "#import packages\n",
        "from keras.datasets import cifar10\n",
        "from keras.models import Sequential\n",
        "from keras.layers import Dense, Dropout, Activation, Flatten\n",
        "from keras.utils import to_categorical\n",
        "\n",
        "#import dataset\n",
        "(X_train, y_train), (X_test, y_test) = cifar10.load_data()\n",
        "\n",
        "#change shape from image to vector\n",
        "X_train = X_train.reshape(50000, 32 * 32 * 3)\n",
        "X_test = X_test.reshape(10000, 32 * 32 * 3)\n",
        "\n",
        "#preprocess\n",
        "X_train = X_train.astype('float32')\n",
        "X_test = X_test.astype('float32')\n",
        "X_train /= 255.0\n",
        "X_test /= 255.0\n",
        "\n",
        "#change labels from numeric to one hot encoded\n",
        "Y_train = to_categorical(y_train, 10)\n",
        "Y_test =  to_categorical(y_test, 10)\n",
        "\n",
        "#Model building\n",
        "model = Sequential()\n",
        "model.add(Dense(1024, input_shape=(3072,), kernel_initializer='random_uniform', bias_initializer='zeros'))\n",
        "model.add(Activation('relu'))\n",
        "model.add(Dense(512, kernel_initializer='random_uniform', bias_initializer='zeros'))\n",
        "model.add(Activation('relu'))\n",
        "model.add(Dense(512, kernel_initializer='random_uniform', bias_initializer='zeros'))\n",
        "model.add(Activation('relu'))\n",
        "model.add(Dense(10, kernel_initializer='random_uniform', bias_initializer='zeros'))\n",
        "model.add(Activation('softmax'))\n",
        "\n",
        "model.compile(loss='categorical_crossentropy',\n",
        "                  optimizer='adam',\n",
        "                  metrics=['accuracy'])\n",
        "    \n",
        " \n",
        "\n",
        "# training\n",
        "history = model.fit(X_train, Y_train,\n",
        "                        batch_size=128,\n",
        "                        nb_epoch=5,\n",
        "                        verbose=1,\n",
        "                        validation_data=(X_test, Y_test))"
      ],
      "execution_count": 0,
      "outputs": [
        {
          "output_type": "stream",
          "text": [
            "/usr/local/lib/python3.6/dist-packages/ipykernel_launcher.py:45: UserWarning: The `nb_epoch` argument in `fit` has been renamed `epochs`.\n"
          ],
          "name": "stderr"
        },
        {
          "output_type": "stream",
          "text": [
            "Train on 50000 samples, validate on 10000 samples\n",
            "Epoch 1/5\n",
            "50000/50000 [==============================] - 5s 100us/step - loss: 1.8565 - acc: 0.3220 - val_loss: 1.7185 - val_acc: 0.3761\n",
            "Epoch 2/5\n",
            "50000/50000 [==============================] - 4s 86us/step - loss: 1.6679 - acc: 0.3990 - val_loss: 1.6046 - val_acc: 0.4175\n",
            "Epoch 3/5\n",
            "50000/50000 [==============================] - 4s 88us/step - loss: 1.5799 - acc: 0.4320 - val_loss: 1.5674 - val_acc: 0.4384\n",
            "Epoch 4/5\n",
            "50000/50000 [==============================] - 4s 86us/step - loss: 1.5105 - acc: 0.4575 - val_loss: 1.5206 - val_acc: 0.4469\n",
            "Epoch 5/5\n",
            "50000/50000 [==============================] - 4s 86us/step - loss: 1.4615 - acc: 0.4775 - val_loss: 1.4880 - val_acc: 0.4685\n"
          ],
          "name": "stdout"
        }
      ]
    },
    {
      "cell_type": "markdown",
      "metadata": {
        "id": "ysqToiwvBVae",
        "colab_type": "text"
      },
      "source": [
        "#Model with weights as ones"
      ]
    },
    {
      "cell_type": "code",
      "metadata": {
        "id": "3hy37WX9Bm3x",
        "colab_type": "code",
        "outputId": "d2660ecc-59cc-4133-bbf4-dd9dfe193c04",
        "colab": {
          "base_uri": "https://localhost:8080/",
          "height": 218
        }
      },
      "source": [
        "#import packages\n",
        "from keras.datasets import cifar10\n",
        "from keras.models import Sequential\n",
        "from keras.layers import Dense, Dropout, Activation, Flatten\n",
        "from keras.utils import to_categorical\n",
        "\n",
        "#import dataset\n",
        "(X_train, y_train), (X_test, y_test) = cifar10.load_data()\n",
        "\n",
        "#change shape from image to vector\n",
        "X_train = X_train.reshape(50000, 32 * 32 * 3)\n",
        "X_test = X_test.reshape(10000, 32 * 32 * 3)\n",
        "\n",
        "#preprocess\n",
        "X_train = X_train.astype('float32')\n",
        "X_test = X_test.astype('float32')\n",
        "X_train /= 255.0\n",
        "X_test /= 255.0\n",
        "\n",
        "#change labels from numeric to one hot encoded\n",
        "Y_train = to_categorical(y_train, 10)\n",
        "Y_test =  to_categorical(y_test, 10)\n",
        "\n",
        "#Model building\n",
        "model = Sequential()\n",
        "model.add(Dense(1024, input_shape=(3072,), kernel_initializer='ones', bias_initializer='ones'))\n",
        "model.add(Activation('relu'))\n",
        "model.add(Dense(512, kernel_initializer='ones', bias_initializer='ones'))\n",
        "model.add(Activation('relu'))\n",
        "model.add(Dense(512, kernel_initializer='ones', bias_initializer='ones'))\n",
        "model.add(Activation('relu'))\n",
        "model.add(Dense(10, kernel_initializer='ones', bias_initializer='ones'))\n",
        "model.add(Activation('softmax'))\n",
        "\n",
        "model.compile(loss='categorical_crossentropy',\n",
        "                  optimizer='adam',\n",
        "                  metrics=['accuracy'])\n",
        "    \n",
        " \n",
        "\n",
        "# training\n",
        "history = model.fit(X_train, Y_train,\n",
        "                        batch_size=128,\n",
        "                        nb_epoch=5,\n",
        "                        verbose=1,\n",
        "                        validation_data=(X_test, Y_test))"
      ],
      "execution_count": 0,
      "outputs": [
        {
          "output_type": "stream",
          "text": [
            "/usr/local/lib/python3.6/dist-packages/ipykernel_launcher.py:45: UserWarning: The `nb_epoch` argument in `fit` has been renamed `epochs`.\n"
          ],
          "name": "stderr"
        },
        {
          "output_type": "stream",
          "text": [
            "Train on 50000 samples, validate on 10000 samples\n",
            "Epoch 1/5\n",
            "50000/50000 [==============================] - 5s 104us/step - loss: 14.4652 - acc: 0.1000 - val_loss: 14.5063 - val_acc: 0.1000\n",
            "Epoch 2/5\n",
            "50000/50000 [==============================] - 4s 87us/step - loss: 14.5063 - acc: 0.1000 - val_loss: 14.5063 - val_acc: 0.1000\n",
            "Epoch 3/5\n",
            "50000/50000 [==============================] - 4s 88us/step - loss: 14.5063 - acc: 0.1000 - val_loss: 14.5063 - val_acc: 0.1000\n",
            "Epoch 4/5\n",
            "50000/50000 [==============================] - 4s 87us/step - loss: 14.5063 - acc: 0.1000 - val_loss: 14.5063 - val_acc: 0.1000\n",
            "Epoch 5/5\n",
            "50000/50000 [==============================] - 4s 86us/step - loss: 14.5063 - acc: 0.1000 - val_loss: 14.5063 - val_acc: 0.1000\n"
          ],
          "name": "stdout"
        }
      ]
    },
    {
      "cell_type": "markdown",
      "metadata": {
        "id": "Wt4hjq_eCFyu",
        "colab_type": "text"
      },
      "source": [
        "# Model initialized with constant values\n",
        "\n",
        "Initializer that generates tensors initialized to a constant value.\n",
        "\n",
        "Arguments\n",
        "\n",
        "1. value: float; the value of the generator tensors."
      ]
    },
    {
      "cell_type": "code",
      "metadata": {
        "id": "iLAIW3w0COQV",
        "colab_type": "code",
        "outputId": "f3b21ad5-e66e-40ff-8aae-a675de6ea415",
        "colab": {
          "base_uri": "https://localhost:8080/",
          "height": 218
        }
      },
      "source": [
        "#import packages\n",
        "import keras\n",
        "from keras.datasets import cifar10\n",
        "from keras.models import Sequential\n",
        "from keras.layers import Dense, Dropout, Activation, Flatten\n",
        "from keras.utils import to_categorical\n",
        "\n",
        "#import dataset\n",
        "(X_train, y_train), (X_test, y_test) = cifar10.load_data()\n",
        "\n",
        "#change shape from image to vector\n",
        "X_train = X_train.reshape(50000, 32 * 32 * 3)\n",
        "X_test = X_test.reshape(10000, 32 * 32 * 3)\n",
        "\n",
        "#preprocess\n",
        "X_train = X_train.astype('float32')\n",
        "X_test = X_test.astype('float32')\n",
        "X_train /= 255.0\n",
        "X_test /= 255.0\n",
        "\n",
        "#change labels from numeric to one hot encoded\n",
        "Y_train = to_categorical(y_train, 10)\n",
        "Y_test =  to_categorical(y_test, 10)\n",
        "\n",
        "#Model building\n",
        "initializer = keras.initializers.Constant(value=0)\n",
        "model = Sequential()\n",
        "model.add(Dense(1024, input_shape=(3072,), kernel_initializer=initializer, bias_initializer=initializer))\n",
        "model.add(Activation('relu'))\n",
        "model.add(Dense(512, kernel_initializer=initializer, bias_initializer=initializer))\n",
        "model.add(Activation('relu'))\n",
        "model.add(Dense(512, kernel_initializer=initializer, bias_initializer=initializer))\n",
        "model.add(Activation('relu'))\n",
        "model.add(Dense(10, kernel_initializer=initializer, bias_initializer=initializer))\n",
        "model.add(Activation('softmax'))\n",
        "\n",
        "model.compile(loss='categorical_crossentropy',\n",
        "                  optimizer='adam',\n",
        "                  metrics=['accuracy'])\n",
        "    \n",
        " \n",
        "\n",
        "# training\n",
        "history = model.fit(X_train, Y_train,\n",
        "                        batch_size=128,\n",
        "                        nb_epoch=5,\n",
        "                        verbose=1,\n",
        "                        validation_data=(X_test, Y_test))"
      ],
      "execution_count": 0,
      "outputs": [
        {
          "output_type": "stream",
          "text": [
            "/usr/local/lib/python3.6/dist-packages/ipykernel_launcher.py:47: UserWarning: The `nb_epoch` argument in `fit` has been renamed `epochs`.\n"
          ],
          "name": "stderr"
        },
        {
          "output_type": "stream",
          "text": [
            "Train on 50000 samples, validate on 10000 samples\n",
            "Epoch 1/5\n",
            "50000/50000 [==============================] - 5s 105us/step - loss: 2.3027 - acc: 0.0972 - val_loss: 2.3026 - val_acc: 0.1000\n",
            "Epoch 2/5\n",
            "50000/50000 [==============================] - 4s 87us/step - loss: 2.3027 - acc: 0.0964 - val_loss: 2.3026 - val_acc: 0.1000\n",
            "Epoch 3/5\n",
            "50000/50000 [==============================] - 4s 87us/step - loss: 2.3027 - acc: 0.0986 - val_loss: 2.3026 - val_acc: 0.1000\n",
            "Epoch 4/5\n",
            "50000/50000 [==============================] - 4s 86us/step - loss: 2.3027 - acc: 0.0979 - val_loss: 2.3026 - val_acc: 0.1000\n",
            "Epoch 5/5\n",
            "50000/50000 [==============================] - 4s 87us/step - loss: 2.3027 - acc: 0.0983 - val_loss: 2.3026 - val_acc: 0.1000\n"
          ],
          "name": "stdout"
        }
      ]
    },
    {
      "cell_type": "markdown",
      "metadata": {
        "id": "sA0dnI8SCuBG",
        "colab_type": "text"
      },
      "source": [
        "#RandomNormal\n",
        "keras.initializers.RandomNormal(mean=0.0, stddev=0.05, seed=None)\n",
        "Initializer that generates tensors with a normal distribution.\n",
        "\n",
        "Arguments\n",
        "\n",
        "1. mean: a python scalar or a scalar tensor. Mean of the random values to generate.\n",
        "2. stddev: a python scalar or a scalar tensor. Standard deviation of the random values to generate.\n",
        "3. seed: A Python integer. Used to seed the random generator."
      ]
    },
    {
      "cell_type": "code",
      "metadata": {
        "id": "hp1NkCnlDFIu",
        "colab_type": "code",
        "outputId": "7266852f-a5ef-42c9-af0d-7e7b601dc595",
        "colab": {
          "base_uri": "https://localhost:8080/",
          "height": 252
        }
      },
      "source": [
        "#import packages\n",
        "import keras\n",
        "from keras.datasets import cifar10\n",
        "from keras.models import Sequential\n",
        "from keras.layers import Dense, Dropout, Activation, Flatten\n",
        "from keras.utils import to_categorical\n",
        "\n",
        "#import dataset\n",
        "(X_train, y_train), (X_test, y_test) = cifar10.load_data()\n",
        "\n",
        "#change shape from image to vector\n",
        "X_train = X_train.reshape(50000, 32 * 32 * 3)\n",
        "X_test = X_test.reshape(10000, 32 * 32 * 3)\n",
        "\n",
        "#preprocess\n",
        "X_train = X_train.astype('float32')\n",
        "X_test = X_test.astype('float32')\n",
        "X_train /= 255.0\n",
        "X_test /= 255.0\n",
        "\n",
        "#change labels from numeric to one hot encoded\n",
        "Y_train = to_categorical(y_train, 10)\n",
        "Y_test =  to_categorical(y_test, 10)\n",
        "\n",
        "#Model building\n",
        "initializer = keras.initializers.RandomNormal(mean=0.0, stddev=0.05, seed=None)\n",
        "model = Sequential()\n",
        "model.add(Dense(1024, input_shape=(3072,), kernel_initializer=initializer, bias_initializer=initializer))\n",
        "model.add(Activation('relu'))\n",
        "model.add(Dense(512, kernel_initializer=initializer, bias_initializer=initializer))\n",
        "model.add(Activation('relu'))\n",
        "model.add(Dense(512, kernel_initializer=initializer, bias_initializer=initializer))\n",
        "model.add(Activation('relu'))\n",
        "model.add(Dense(10, kernel_initializer=initializer, bias_initializer=initializer))\n",
        "model.add(Activation('softmax'))\n",
        "\n",
        "model.compile(loss='categorical_crossentropy',\n",
        "                  optimizer='adam',\n",
        "                  metrics=['accuracy'])\n",
        "    \n",
        " \n",
        "\n",
        "# training\n",
        "history = model.fit(X_train, Y_train,\n",
        "                        batch_size=128,\n",
        "                        nb_epoch=5,\n",
        "                        verbose=1,\n",
        "                        validation_data=(X_test, Y_test))"
      ],
      "execution_count": 0,
      "outputs": [
        {
          "output_type": "stream",
          "text": [
            "WARNING:tensorflow:From /usr/local/lib/python3.6/dist-packages/keras/backend/tensorflow_backend.py:4409: The name tf.random_normal is deprecated. Please use tf.random.normal instead.\n",
            "\n"
          ],
          "name": "stdout"
        },
        {
          "output_type": "stream",
          "text": [
            "/usr/local/lib/python3.6/dist-packages/ipykernel_launcher.py:47: UserWarning: The `nb_epoch` argument in `fit` has been renamed `epochs`.\n"
          ],
          "name": "stderr"
        },
        {
          "output_type": "stream",
          "text": [
            "Train on 50000 samples, validate on 10000 samples\n",
            "Epoch 1/5\n",
            "50000/50000 [==============================] - 5s 107us/step - loss: 1.9416 - acc: 0.3177 - val_loss: 1.7641 - val_acc: 0.3738\n",
            "Epoch 2/5\n",
            "50000/50000 [==============================] - 4s 87us/step - loss: 1.6620 - acc: 0.4039 - val_loss: 1.5896 - val_acc: 0.4296\n",
            "Epoch 3/5\n",
            "50000/50000 [==============================] - 4s 87us/step - loss: 1.5536 - acc: 0.4434 - val_loss: 1.5582 - val_acc: 0.4424\n",
            "Epoch 4/5\n",
            "50000/50000 [==============================] - 4s 86us/step - loss: 1.5015 - acc: 0.4631 - val_loss: 1.5225 - val_acc: 0.4546\n",
            "Epoch 5/5\n",
            "50000/50000 [==============================] - 4s 86us/step - loss: 1.4483 - acc: 0.4805 - val_loss: 1.5060 - val_acc: 0.4634\n"
          ],
          "name": "stdout"
        }
      ]
    },
    {
      "cell_type": "markdown",
      "metadata": {
        "id": "3K_gczVbDMRC",
        "colab_type": "text"
      },
      "source": [
        "#RandomUniform\n",
        "keras.initializers.RandomUniform(minval=-0.05, maxval=0.05, seed=None)\n",
        "Initializer that generates tensors with a uniform distribution.\n",
        "\n",
        "Arguments\n",
        "\n",
        "1. minval: A python scalar or a scalar tensor. Lower bound of the range of random values to generate.\n",
        "2. maxval: A python scalar or a scalar tensor. Upper bound of the range of random values to generate. Defaults to 1 for float types.\n",
        "3. seed: A Python integer. Used to seed the random generator."
      ]
    },
    {
      "cell_type": "code",
      "metadata": {
        "id": "3MTNL18EDR8j",
        "colab_type": "code",
        "outputId": "b7987d33-ed02-4016-9df6-2d56928dc7c9",
        "colab": {
          "base_uri": "https://localhost:8080/",
          "height": 218
        }
      },
      "source": [
        "#import packages\n",
        "import keras\n",
        "from keras.datasets import cifar10\n",
        "from keras.models import Sequential\n",
        "from keras.layers import Dense, Dropout, Activation, Flatten\n",
        "from keras.utils import to_categorical\n",
        "\n",
        "#import dataset\n",
        "(X_train, y_train), (X_test, y_test) = cifar10.load_data()\n",
        "\n",
        "#change shape from image to vector\n",
        "X_train = X_train.reshape(50000, 32 * 32 * 3)\n",
        "X_test = X_test.reshape(10000, 32 * 32 * 3)\n",
        "\n",
        "#preprocess\n",
        "X_train = X_train.astype('float32')\n",
        "X_test = X_test.astype('float32')\n",
        "X_train /= 255.0\n",
        "X_test /= 255.0\n",
        "\n",
        "#change labels from numeric to one hot encoded\n",
        "Y_train = to_categorical(y_train, 10)\n",
        "Y_test =  to_categorical(y_test, 10)\n",
        "\n",
        "#Model building\n",
        "initializer = keras.initializers.RandomUniform(minval=-0.05, maxval=0.05, seed=None)\n",
        "model = Sequential()\n",
        "model.add(Dense(1024, input_shape=(3072,), kernel_initializer=initializer, bias_initializer=initializer))\n",
        "model.add(Activation('relu'))\n",
        "model.add(Dense(512, kernel_initializer=initializer, bias_initializer=initializer))\n",
        "model.add(Activation('relu'))\n",
        "model.add(Dense(512, kernel_initializer=initializer, bias_initializer=initializer))\n",
        "model.add(Activation('relu'))\n",
        "model.add(Dense(10, kernel_initializer=initializer, bias_initializer=initializer))\n",
        "model.add(Activation('softmax'))\n",
        "\n",
        "model.compile(loss='categorical_crossentropy',\n",
        "                  optimizer='adam',\n",
        "                  metrics=['accuracy'])\n",
        "    \n",
        " \n",
        "\n",
        "# training\n",
        "history = model.fit(X_train, Y_train,\n",
        "                        batch_size=128,\n",
        "                        nb_epoch=5,\n",
        "                        verbose=1,\n",
        "                        validation_data=(X_test, Y_test))"
      ],
      "execution_count": 0,
      "outputs": [
        {
          "output_type": "stream",
          "text": [
            "/usr/local/lib/python3.6/dist-packages/ipykernel_launcher.py:47: UserWarning: The `nb_epoch` argument in `fit` has been renamed `epochs`.\n"
          ],
          "name": "stderr"
        },
        {
          "output_type": "stream",
          "text": [
            "Train on 50000 samples, validate on 10000 samples\n",
            "Epoch 1/5\n",
            "50000/50000 [==============================] - 5s 107us/step - loss: 1.8622 - acc: 0.3193 - val_loss: 1.7355 - val_acc: 0.3694\n",
            "Epoch 2/5\n",
            "50000/50000 [==============================] - 4s 86us/step - loss: 1.6669 - acc: 0.4014 - val_loss: 1.6029 - val_acc: 0.4178\n",
            "Epoch 3/5\n",
            "50000/50000 [==============================] - 4s 86us/step - loss: 1.5789 - acc: 0.4326 - val_loss: 1.5369 - val_acc: 0.4494\n",
            "Epoch 4/5\n",
            "50000/50000 [==============================] - 4s 87us/step - loss: 1.5176 - acc: 0.4551 - val_loss: 1.4976 - val_acc: 0.4744\n",
            "Epoch 5/5\n",
            "50000/50000 [==============================] - 4s 87us/step - loss: 1.4603 - acc: 0.4763 - val_loss: 1.4485 - val_acc: 0.4856\n"
          ],
          "name": "stdout"
        }
      ]
    },
    {
      "cell_type": "markdown",
      "metadata": {
        "id": "sCx54MFWDgnj",
        "colab_type": "text"
      },
      "source": [
        "#TruncatedNormal\n",
        "keras.initializers.TruncatedNormal(mean=0.0, stddev=0.05, seed=None)\n",
        "Initializer that generates a truncated normal distribution.\n",
        "\n",
        "These values are similar to values from a RandomNormal except that values more than two standard deviations from the mean are discarded and redrawn. This is the recommended initializer for neural network weights and filters.\n",
        "\n",
        "Arguments\n",
        "\n",
        "1. mean: a python scalar or a scalar tensor. Mean of the random values to generate.\n",
        "2. stddev: a python scalar or a scalar tensor. Standard deviation of the random values to generate.\n",
        "3. seed: A Python integer. Used to seed the random generator."
      ]
    },
    {
      "cell_type": "code",
      "metadata": {
        "id": "r9ty4foYDmBj",
        "colab_type": "code",
        "outputId": "cfd4f012-e455-40da-e147-f6093e2bbe6c",
        "colab": {
          "base_uri": "https://localhost:8080/",
          "height": 272
        }
      },
      "source": [
        "#import packages\n",
        "import keras\n",
        "from keras.datasets import cifar10\n",
        "from keras.models import Sequential\n",
        "from keras.layers import Dense, Dropout, Activation, Flatten\n",
        "from keras.utils import to_categorical\n",
        "\n",
        "#import dataset\n",
        "(X_train, y_train), (X_test, y_test) = cifar10.load_data()\n",
        "\n",
        "#change shape from image to vector\n",
        "X_train = X_train.reshape(50000, 32 * 32 * 3)\n",
        "X_test = X_test.reshape(10000, 32 * 32 * 3)\n",
        "\n",
        "#preprocess\n",
        "X_train = X_train.astype('float32')\n",
        "X_test = X_test.astype('float32')\n",
        "X_train /= 255.0\n",
        "X_test /= 255.0\n",
        "\n",
        "#change labels from numeric to one hot encoded\n",
        "Y_train = to_categorical(y_train, 10)\n",
        "Y_test =  to_categorical(y_test, 10)\n",
        "\n",
        "#Model building\n",
        "initializer = keras.initializers.TruncatedNormal(mean=0.0, stddev=0.05, seed=None)\n",
        "model = Sequential()\n",
        "model.add(Dense(1024, input_shape=(3072,), kernel_initializer=initializer, bias_initializer=initializer))\n",
        "model.add(Activation('relu'))\n",
        "model.add(Dense(512, kernel_initializer=initializer, bias_initializer=initializer))\n",
        "model.add(Activation('relu'))\n",
        "model.add(Dense(512, kernel_initializer=initializer, bias_initializer=initializer))\n",
        "model.add(Activation('relu'))\n",
        "model.add(Dense(10, kernel_initializer=initializer, bias_initializer=initializer))\n",
        "model.add(Activation('softmax'))\n",
        "\n",
        "model.compile(loss='categorical_crossentropy',\n",
        "                  optimizer='adam',\n",
        "                  metrics=['accuracy'])\n",
        "    \n",
        " \n",
        "\n",
        "# training\n",
        "history = model.fit(X_train, Y_train,\n",
        "                        batch_size=128,\n",
        "                        nb_epoch=5,\n",
        "                        verbose=1,\n",
        "                        validation_data=(X_test, Y_test))"
      ],
      "execution_count": 0,
      "outputs": [
        {
          "output_type": "stream",
          "text": [
            "WARNING:tensorflow:From /usr/local/lib/python3.6/dist-packages/keras/backend/tensorflow_backend.py:4479: The name tf.truncated_normal is deprecated. Please use tf.random.truncated_normal instead.\n",
            "\n"
          ],
          "name": "stdout"
        },
        {
          "output_type": "stream",
          "text": [
            "/usr/local/lib/python3.6/dist-packages/ipykernel_launcher.py:47: UserWarning: The `nb_epoch` argument in `fit` has been renamed `epochs`.\n"
          ],
          "name": "stderr"
        },
        {
          "output_type": "stream",
          "text": [
            "Train on 50000 samples, validate on 10000 samples\n",
            "Epoch 1/5\n",
            "50000/50000 [==============================] - 5s 107us/step - loss: 1.8731 - acc: 0.3266 - val_loss: 1.6885 - val_acc: 0.3911\n",
            "Epoch 2/5\n",
            "50000/50000 [==============================] - 4s 86us/step - loss: 1.6625 - acc: 0.4040 - val_loss: 1.6406 - val_acc: 0.4140\n",
            "Epoch 3/5\n",
            "50000/50000 [==============================] - 4s 86us/step - loss: 1.5644 - acc: 0.4418 - val_loss: 1.5425 - val_acc: 0.4461\n",
            "Epoch 4/5\n",
            "50000/50000 [==============================] - 4s 86us/step - loss: 1.5087 - acc: 0.4616 - val_loss: 1.5054 - val_acc: 0.4639\n",
            "Epoch 5/5\n",
            "50000/50000 [==============================] - 4s 86us/step - loss: 1.4579 - acc: 0.4792 - val_loss: 1.4590 - val_acc: 0.4796\n"
          ],
          "name": "stdout"
        }
      ]
    },
    {
      "cell_type": "markdown",
      "metadata": {
        "id": "X2LU6BByDtCE",
        "colab_type": "text"
      },
      "source": [
        "#VarianceScaling\n",
        "1. keras.initializers.VarianceScaling(scale=1.0, mode='fan_in', distribution='normal', seed=None)\n",
        "2. Initializer capable of adapting its scale to the shape of weights.\n",
        "\n",
        "With distribution=\"normal\", samples are drawn from a truncated normal distribution centered on zero, with stddev = sqrt(scale / n) where n is:\n",
        "\n",
        "1. number of input units in the weight tensor, if mode = \"fan_in\"\n",
        "2. number of output units, if mode = \"fan_out\"\n",
        "3. average of the numbers of input and output units, if mode = \"fan_avg\"\n",
        "\n",
        "With distribution=\"uniform\", samples are drawn from a uniform distribution within [-limit, limit], with limit = sqrt(3 * scale / n).\n",
        "\n",
        "Arguments\n",
        "\n",
        "1. scale: Scaling factor (positive float).\n",
        "2. mode: One of \"fan_in\", \"fan_out\", \"fan_avg\".\n",
        "3. distribution: Random distribution to use. One of \"normal\", \"uniform\".\n",
        "4. seed: A Python integer. Used to seed the random generator.\n",
        "\n",
        "Raises\n",
        "\n",
        "ValueError: In case of an invalid value for the \"scale\", mode\" or \"distribution\" arguments."
      ]
    },
    {
      "cell_type": "code",
      "metadata": {
        "id": "7R-rDZuQD8Yd",
        "colab_type": "code",
        "outputId": "7a58d314-fc1a-47eb-fed4-2e99ba25c6e6",
        "colab": {
          "base_uri": "https://localhost:8080/",
          "height": 218
        }
      },
      "source": [
        "#import packages\n",
        "import keras\n",
        "from keras.datasets import cifar10\n",
        "from keras.models import Sequential\n",
        "from keras.layers import Dense, Dropout, Activation, Flatten\n",
        "from keras.utils import to_categorical\n",
        "\n",
        "#import dataset\n",
        "(X_train, y_train), (X_test, y_test) = cifar10.load_data()\n",
        "\n",
        "#change shape from image to vector\n",
        "X_train = X_train.reshape(50000, 32 * 32 * 3)\n",
        "X_test = X_test.reshape(10000, 32 * 32 * 3)\n",
        "\n",
        "#preprocess\n",
        "X_train = X_train.astype('float32')\n",
        "X_test = X_test.astype('float32')\n",
        "X_train /= 255.0\n",
        "X_test /= 255.0\n",
        "\n",
        "#change labels from numeric to one hot encoded\n",
        "Y_train = to_categorical(y_train, 10)\n",
        "Y_test =  to_categorical(y_test, 10)\n",
        "\n",
        "#Model building\n",
        "initializer = keras.initializers.VarianceScaling(scale=1.0, mode='fan_in', distribution='normal', seed=None)\n",
        "model = Sequential()\n",
        "model.add(Dense(1024, input_shape=(3072,), kernel_initializer=initializer, bias_initializer=initializer))\n",
        "model.add(Activation('relu'))\n",
        "model.add(Dense(512, kernel_initializer=initializer, bias_initializer=initializer))\n",
        "model.add(Activation('relu'))\n",
        "model.add(Dense(512, kernel_initializer=initializer, bias_initializer=initializer))\n",
        "model.add(Activation('relu'))\n",
        "model.add(Dense(10, kernel_initializer=initializer, bias_initializer=initializer))\n",
        "model.add(Activation('softmax'))\n",
        "\n",
        "model.compile(loss='categorical_crossentropy',\n",
        "                  optimizer='adam',\n",
        "                  metrics=['accuracy'])\n",
        "    \n",
        " \n",
        "\n",
        "# training\n",
        "history = model.fit(X_train, Y_train,\n",
        "                        batch_size=128,\n",
        "                        nb_epoch=5,\n",
        "                        verbose=1,\n",
        "                        validation_data=(X_test, Y_test))"
      ],
      "execution_count": 0,
      "outputs": [
        {
          "output_type": "stream",
          "text": [
            "/usr/local/lib/python3.6/dist-packages/ipykernel_launcher.py:47: UserWarning: The `nb_epoch` argument in `fit` has been renamed `epochs`.\n"
          ],
          "name": "stderr"
        },
        {
          "output_type": "stream",
          "text": [
            "Train on 50000 samples, validate on 10000 samples\n",
            "Epoch 1/5\n",
            "50000/50000 [==============================] - 6s 110us/step - loss: 1.8676 - acc: 0.3219 - val_loss: 1.7144 - val_acc: 0.3806\n",
            "Epoch 2/5\n",
            "50000/50000 [==============================] - 4s 87us/step - loss: 1.6681 - acc: 0.3990 - val_loss: 1.6174 - val_acc: 0.4148\n",
            "Epoch 3/5\n",
            "50000/50000 [==============================] - 4s 87us/step - loss: 1.5683 - acc: 0.4347 - val_loss: 1.5272 - val_acc: 0.4556\n",
            "Epoch 4/5\n",
            "50000/50000 [==============================] - 4s 86us/step - loss: 1.5115 - acc: 0.4573 - val_loss: 1.5454 - val_acc: 0.4470\n",
            "Epoch 5/5\n",
            "50000/50000 [==============================] - 4s 86us/step - loss: 1.4480 - acc: 0.4808 - val_loss: 1.4659 - val_acc: 0.4777\n"
          ],
          "name": "stdout"
        }
      ]
    },
    {
      "cell_type": "markdown",
      "metadata": {
        "id": "Duh3uniqEJOr",
        "colab_type": "text"
      },
      "source": [
        "#Orthogonal\n",
        "keras.initializers.Orthogonal(gain=1.0, seed=None)\n",
        "Initializer that generates a random orthogonal matrix.\n",
        "\n",
        "Arguments\n",
        "\n",
        "1. gain: Multiplicative factor to apply to the orthogonal matrix.\n",
        "2. seed: A Python integer. Used to seed the random generator."
      ]
    },
    {
      "cell_type": "code",
      "metadata": {
        "id": "heR04DCHEbx0",
        "colab_type": "code",
        "outputId": "092f1f29-1740-4a6c-c820-2124170ea2b3",
        "colab": {
          "base_uri": "https://localhost:8080/",
          "height": 218
        }
      },
      "source": [
        "#import packages\n",
        "import keras\n",
        "from keras.datasets import cifar10\n",
        "from keras.models import Sequential\n",
        "from keras.layers import Dense, Dropout, Activation, Flatten\n",
        "from keras.utils import to_categorical\n",
        "\n",
        "#import dataset\n",
        "(X_train, y_train), (X_test, y_test) = cifar10.load_data()\n",
        "\n",
        "#change shape from image to vector\n",
        "X_train = X_train.reshape(50000, 32 * 32 * 3)\n",
        "X_test = X_test.reshape(10000, 32 * 32 * 3)\n",
        "\n",
        "#preprocess\n",
        "X_train = X_train.astype('float32')\n",
        "X_test = X_test.astype('float32')\n",
        "X_train /= 255.0\n",
        "X_test /= 255.0\n",
        "\n",
        "#change labels from numeric to one hot encoded\n",
        "Y_train = to_categorical(y_train, 10)\n",
        "Y_test =  to_categorical(y_test, 10)\n",
        "\n",
        "#Model building\n",
        "initializer = keras.initializers.Orthogonal(gain=2.0, seed=None)\n",
        "model = Sequential()\n",
        "model.add(Dense(1024, input_shape=(3072,), kernel_initializer=initializer))\n",
        "model.add(Activation('relu'))\n",
        "model.add(Dense(512, kernel_initializer=initializer))\n",
        "model.add(Activation('relu'))\n",
        "model.add(Dense(512, kernel_initializer=initializer))\n",
        "model.add(Activation('relu'))\n",
        "model.add(Dense(10, kernel_initializer=initializer))\n",
        "model.add(Activation('softmax'))\n",
        "\n",
        "model.compile(loss='categorical_crossentropy',\n",
        "                  optimizer='adam',\n",
        "                  metrics=['accuracy'])\n",
        "    \n",
        " \n",
        "\n",
        "# training\n",
        "history = model.fit(X_train, Y_train,\n",
        "                        batch_size=128,\n",
        "                        nb_epoch=5,\n",
        "                        verbose=1,\n",
        "                        validation_data=(X_test, Y_test))"
      ],
      "execution_count": 0,
      "outputs": [
        {
          "output_type": "stream",
          "text": [
            "/usr/local/lib/python3.6/dist-packages/ipykernel_launcher.py:47: UserWarning: The `nb_epoch` argument in `fit` has been renamed `epochs`.\n"
          ],
          "name": "stderr"
        },
        {
          "output_type": "stream",
          "text": [
            "Train on 50000 samples, validate on 10000 samples\n",
            "Epoch 1/5\n",
            "50000/50000 [==============================] - 6s 113us/step - loss: 14.4010 - acc: 0.1004 - val_loss: 14.5063 - val_acc: 0.1000\n",
            "Epoch 2/5\n",
            "50000/50000 [==============================] - 4s 88us/step - loss: 14.5063 - acc: 0.1000 - val_loss: 14.5063 - val_acc: 0.1000\n",
            "Epoch 3/5\n",
            "50000/50000 [==============================] - 4s 87us/step - loss: 14.5063 - acc: 0.1000 - val_loss: 14.5063 - val_acc: 0.1000\n",
            "Epoch 4/5\n",
            "50000/50000 [==============================] - 4s 88us/step - loss: 14.5063 - acc: 0.1000 - val_loss: 14.5063 - val_acc: 0.1000\n",
            "Epoch 5/5\n",
            "50000/50000 [==============================] - 4s 88us/step - loss: 14.5063 - acc: 0.1000 - val_loss: 14.5063 - val_acc: 0.1000\n"
          ],
          "name": "stdout"
        }
      ]
    },
    {
      "cell_type": "markdown",
      "metadata": {
        "id": "mluQA2hhMdla",
        "colab_type": "text"
      },
      "source": [
        "#Identity\n",
        "\n",
        "1. keras.initializers.Identity(gain=1.0)\n",
        "2. Initializer that generates the identity matrix.\n",
        "\n",
        "Only use for 2D matrices. If the desired matrix is not square, it gets padded with zeros for the additional rows/columns.\n",
        "\n",
        "Arguments\n",
        "\n",
        "1. gain: Multiplicative factor to apply to the identity matrix.\n"
      ]
    },
    {
      "cell_type": "code",
      "metadata": {
        "id": "fb69AfQNErUX",
        "colab_type": "code",
        "outputId": "4a310a2d-e3a3-4317-f2cc-03160dc44d49",
        "colab": {
          "base_uri": "https://localhost:8080/",
          "height": 289
        }
      },
      "source": [
        "#import packages\n",
        "import keras\n",
        "from keras.datasets import cifar10\n",
        "from keras.models import Sequential\n",
        "from keras.layers import Dense, Dropout, Activation, Flatten\n",
        "from keras.utils import to_categorical\n",
        "\n",
        "#import dataset\n",
        "(X_train, y_train), (X_test, y_test) = cifar10.load_data()\n",
        "\n",
        "#change shape from image to vector\n",
        "X_train = X_train.reshape(50000, 32 * 32 * 3)\n",
        "X_test = X_test.reshape(10000, 32 * 32 * 3)\n",
        "\n",
        "#preprocess\n",
        "X_train = X_train.astype('float32')\n",
        "X_test = X_test.astype('float32')\n",
        "X_train /= 255.0\n",
        "X_test /= 255.0\n",
        "\n",
        "#change labels from numeric to one hot encoded\n",
        "Y_train = to_categorical(y_train, 10)\n",
        "Y_test =  to_categorical(y_test, 10)\n",
        "\n",
        "#Model building\n",
        "initializer = keras.initializers.Identity(gain=1.0)\n",
        "\n",
        "model = Sequential()\n",
        "model.add(Dense(1024, input_shape=(3072,), kernel_initializer=initializer))\n",
        "model.add(Activation('relu'))\n",
        "model.add(Dense(512, kernel_initializer=initializer))\n",
        "model.add(Activation('relu'))\n",
        "model.add(Dense(512, kernel_initializer=initializer))\n",
        "model.add(Activation('relu'))\n",
        "model.add(Dense(10, kernel_initializer=initializer))\n",
        "model.add(Activation('softmax'))\n",
        "\n",
        "model.compile(loss='categorical_crossentropy',\n",
        "                  optimizer='adam',\n",
        "                  metrics=['accuracy'])\n",
        "    \n",
        " \n",
        "\n",
        "# training\n",
        "history = model.fit(X_train, Y_train,\n",
        "                        batch_size=128,\n",
        "                        nb_epoch=5,\n",
        "                        verbose=1,\n",
        "                        validation_data=(X_test, Y_test))"
      ],
      "execution_count": 0,
      "outputs": [
        {
          "output_type": "stream",
          "text": [
            "WARNING:tensorflow:From /usr/local/lib/python3.6/dist-packages/tensorflow_core/python/ops/variables.py:2825: Variable.initialized_value (from tensorflow.python.ops.variables) is deprecated and will be removed in a future version.\n",
            "Instructions for updating:\n",
            "Use Variable.read_value. Variables in 2.X are initialized automatically both in eager and graph (inside tf.defun) contexts.\n"
          ],
          "name": "stdout"
        },
        {
          "output_type": "stream",
          "text": [
            "/usr/local/lib/python3.6/dist-packages/ipykernel_launcher.py:48: UserWarning: The `nb_epoch` argument in `fit` has been renamed `epochs`.\n"
          ],
          "name": "stderr"
        },
        {
          "output_type": "stream",
          "text": [
            "Train on 50000 samples, validate on 10000 samples\n",
            "Epoch 1/5\n",
            "50000/50000 [==============================] - 6s 126us/step - loss: 2.1912 - acc: 0.1776 - val_loss: 2.0926 - val_acc: 0.2025\n",
            "Epoch 2/5\n",
            "50000/50000 [==============================] - 5s 91us/step - loss: 2.0467 - acc: 0.2076 - val_loss: 1.9927 - val_acc: 0.2194\n",
            "Epoch 3/5\n",
            "50000/50000 [==============================] - 4s 90us/step - loss: 1.9874 - acc: 0.2219 - val_loss: 1.9508 - val_acc: 0.2418\n",
            "Epoch 4/5\n",
            "50000/50000 [==============================] - 5s 91us/step - loss: 1.9531 - acc: 0.2498 - val_loss: 1.9293 - val_acc: 0.2592\n",
            "Epoch 5/5\n",
            "50000/50000 [==============================] - 4s 90us/step - loss: 1.9369 - acc: 0.2548 - val_loss: 1.9348 - val_acc: 0.2471\n"
          ],
          "name": "stdout"
        }
      ]
    },
    {
      "cell_type": "markdown",
      "metadata": {
        "id": "FqQYkh0MMxGM",
        "colab_type": "text"
      },
      "source": [
        "#lecun_uniform\n",
        "keras.initializers.lecun_uniform(seed=None)\n",
        "\n",
        "LeCun uniform initializer.\n",
        "\n",
        "It draws samples from a uniform distribution within [-limit, limit] where limit is sqrt(3 / fan_in) where fan_in is the number of input units in the weight tensor.\n",
        "\n",
        "Arguments\n",
        "\n",
        "1. seed: A Python integer. Used to seed the random generator.\n",
        "\n",
        "Returns\n",
        "\n",
        "1. An initializer."
      ]
    },
    {
      "cell_type": "code",
      "metadata": {
        "id": "JZn_tD8mM7bT",
        "colab_type": "code",
        "outputId": "6a4b9bb6-8d49-4fe0-b3e8-8b92aeb3e095",
        "colab": {
          "base_uri": "https://localhost:8080/",
          "height": 218
        }
      },
      "source": [
        "#import packages\n",
        "import keras\n",
        "from keras.datasets import cifar10\n",
        "from keras.models import Sequential\n",
        "from keras.layers import Dense, Dropout, Activation, Flatten\n",
        "from keras.utils import to_categorical\n",
        "\n",
        "#import dataset\n",
        "(X_train, y_train), (X_test, y_test) = cifar10.load_data()\n",
        "\n",
        "#change shape from image to vector\n",
        "X_train = X_train.reshape(50000, 32 * 32 * 3)\n",
        "X_test = X_test.reshape(10000, 32 * 32 * 3)\n",
        "\n",
        "#preprocess\n",
        "X_train = X_train.astype('float32')\n",
        "X_test = X_test.astype('float32')\n",
        "X_train /= 255.0\n",
        "X_test /= 255.0\n",
        "\n",
        "#change labels from numeric to one hot encoded\n",
        "Y_train = to_categorical(y_train, 10)\n",
        "Y_test =  to_categorical(y_test, 10)\n",
        "\n",
        "#Model building\n",
        "initializer = keras.initializers.lecun_uniform(seed=None)\n",
        "\n",
        "model = Sequential()\n",
        "model.add(Dense(1024, input_shape=(3072,), kernel_initializer=initializer, bias_initializer=initializer))\n",
        "model.add(Activation('relu'))\n",
        "model.add(Dense(512, kernel_initializer=initializer, bias_initializer=initializer))\n",
        "model.add(Activation('relu'))\n",
        "model.add(Dense(512, kernel_initializer=initializer, bias_initializer=initializer))\n",
        "model.add(Activation('relu'))\n",
        "model.add(Dense(10, kernel_initializer=initializer, bias_initializer=initializer))\n",
        "model.add(Activation('softmax'))\n",
        "\n",
        "model.compile(loss='categorical_crossentropy',\n",
        "                  optimizer='adam',\n",
        "                  metrics=['accuracy'])\n",
        "    \n",
        " \n",
        "\n",
        "# training\n",
        "history = model.fit(X_train, Y_train,\n",
        "                        batch_size=128,\n",
        "                        nb_epoch=5,\n",
        "                        verbose=1,\n",
        "                        validation_data=(X_test, Y_test))"
      ],
      "execution_count": 0,
      "outputs": [
        {
          "output_type": "stream",
          "text": [
            "/usr/local/lib/python3.6/dist-packages/ipykernel_launcher.py:48: UserWarning: The `nb_epoch` argument in `fit` has been renamed `epochs`.\n"
          ],
          "name": "stderr"
        },
        {
          "output_type": "stream",
          "text": [
            "Train on 50000 samples, validate on 10000 samples\n",
            "Epoch 1/5\n",
            "50000/50000 [==============================] - 6s 123us/step - loss: 1.8765 - acc: 0.3209 - val_loss: 1.7229 - val_acc: 0.3846\n",
            "Epoch 2/5\n",
            "50000/50000 [==============================] - 5s 93us/step - loss: 1.6657 - acc: 0.4042 - val_loss: 1.5895 - val_acc: 0.4383\n",
            "Epoch 3/5\n",
            "50000/50000 [==============================] - 5s 92us/step - loss: 1.5605 - acc: 0.4423 - val_loss: 1.5163 - val_acc: 0.4610\n",
            "Epoch 4/5\n",
            "50000/50000 [==============================] - 5s 91us/step - loss: 1.5034 - acc: 0.4600 - val_loss: 1.4710 - val_acc: 0.4744\n",
            "Epoch 5/5\n",
            "50000/50000 [==============================] - 5s 90us/step - loss: 1.4578 - acc: 0.4773 - val_loss: 1.4432 - val_acc: 0.4874\n"
          ],
          "name": "stdout"
        }
      ]
    },
    {
      "cell_type": "markdown",
      "metadata": {
        "id": "B_5CNXt8NG7q",
        "colab_type": "text"
      },
      "source": [
        "#glorot_normal\n",
        "\n",
        "keras.initializers.glorot_normal(seed=None)\n",
        "\n",
        "Glorot normal initializer, also called Xavier normal initializer.\n",
        "\n",
        "It draws samples from a truncated normal distribution centered on 0 with stddev = sqrt(2 / (fan_in + fan_out)) where fan_in is the number of input units in the weight tensor and fan_out is the number of output units in the weight tensor.\n",
        "\n",
        "Arguments\n",
        "\n",
        "1. seed: A Python integer. Used to seed the random generator.\n",
        "\n",
        "Returns\n",
        "\n",
        "1. An initializer."
      ]
    },
    {
      "cell_type": "code",
      "metadata": {
        "id": "jxGxYIQBNZP8",
        "colab_type": "code",
        "outputId": "b023805c-73a7-4dec-88f6-d3f0f51ab71c",
        "colab": {
          "base_uri": "https://localhost:8080/",
          "height": 218
        }
      },
      "source": [
        "#import packages\n",
        "import keras\n",
        "from keras.datasets import cifar10\n",
        "from keras.models import Sequential\n",
        "from keras.layers import Dense, Dropout, Activation, Flatten\n",
        "from keras.utils import to_categorical\n",
        "\n",
        "#import dataset\n",
        "(X_train, y_train), (X_test, y_test) = cifar10.load_data()\n",
        "\n",
        "#change shape from image to vector\n",
        "X_train = X_train.reshape(50000, 32 * 32 * 3)\n",
        "X_test = X_test.reshape(10000, 32 * 32 * 3)\n",
        "\n",
        "#preprocess\n",
        "X_train = X_train.astype('float32')\n",
        "X_test = X_test.astype('float32')\n",
        "X_train /= 255.0\n",
        "X_test /= 255.0\n",
        "\n",
        "#change labels from numeric to one hot encoded\n",
        "Y_train = to_categorical(y_train, 10)\n",
        "Y_test =  to_categorical(y_test, 10)\n",
        "\n",
        "#Model building\n",
        "initializer = keras.initializers.glorot_normal(seed=None)\n",
        "\n",
        "model = Sequential()\n",
        "model.add(Dense(1024, input_shape=(3072,), kernel_initializer=initializer, bias_initializer=initializer))\n",
        "model.add(Activation('relu'))\n",
        "model.add(Dense(512, kernel_initializer=initializer, bias_initializer=initializer))\n",
        "model.add(Activation('relu'))\n",
        "model.add(Dense(512, kernel_initializer=initializer, bias_initializer=initializer))\n",
        "model.add(Activation('relu'))\n",
        "model.add(Dense(10, kernel_initializer=initializer, bias_initializer=initializer))\n",
        "model.add(Activation('softmax'))\n",
        "\n",
        "model.compile(loss='categorical_crossentropy',\n",
        "                  optimizer='adam',\n",
        "                  metrics=['accuracy'])\n",
        "    \n",
        " \n",
        "\n",
        "# training\n",
        "history = model.fit(X_train, Y_train,\n",
        "                        batch_size=128,\n",
        "                        nb_epoch=5,\n",
        "                        verbose=1,\n",
        "                        validation_data=(X_test, Y_test))"
      ],
      "execution_count": 0,
      "outputs": [
        {
          "output_type": "stream",
          "text": [
            "/usr/local/lib/python3.6/dist-packages/ipykernel_launcher.py:48: UserWarning: The `nb_epoch` argument in `fit` has been renamed `epochs`.\n"
          ],
          "name": "stderr"
        },
        {
          "output_type": "stream",
          "text": [
            "Train on 50000 samples, validate on 10000 samples\n",
            "Epoch 1/5\n",
            "50000/50000 [==============================] - 6s 118us/step - loss: 1.8939 - acc: 0.3135 - val_loss: 1.7741 - val_acc: 0.3691\n",
            "Epoch 2/5\n",
            "50000/50000 [==============================] - 4s 88us/step - loss: 1.6610 - acc: 0.4009 - val_loss: 1.5952 - val_acc: 0.4275\n",
            "Epoch 3/5\n",
            "50000/50000 [==============================] - 5s 96us/step - loss: 1.5597 - acc: 0.4401 - val_loss: 1.5563 - val_acc: 0.4379\n",
            "Epoch 4/5\n",
            "50000/50000 [==============================] - 4s 89us/step - loss: 1.4999 - acc: 0.4627 - val_loss: 1.4770 - val_acc: 0.4690\n",
            "Epoch 5/5\n",
            "50000/50000 [==============================] - 4s 88us/step - loss: 1.4491 - acc: 0.4789 - val_loss: 1.4521 - val_acc: 0.4778\n"
          ],
          "name": "stdout"
        }
      ]
    },
    {
      "cell_type": "markdown",
      "metadata": {
        "id": "V53RcodcNmbd",
        "colab_type": "text"
      },
      "source": [
        "#glorot_uniform\n",
        "\n",
        "keras.initializers.glorot_uniform(seed=None)\n",
        "\n",
        "Glorot uniform initializer, also called Xavier uniform initializer.\n",
        "\n",
        "It draws samples from a uniform distribution within [-limit, limit] where limit is sqrt(6 / (fan_in + fan_out)) where fan_in is the number of input units in the weight tensor and fan_out is the number of output units in the weight tensor.\n",
        "\n",
        "Arguments\n",
        "\n",
        "1. seed: A Python integer. Used to seed the random generator.\n",
        "\n",
        "Returns\n",
        "\n",
        "1. An initializer."
      ]
    },
    {
      "cell_type": "code",
      "metadata": {
        "id": "wsVWfqeQNtxl",
        "colab_type": "code",
        "outputId": "50826154-b691-4823-8f6f-7fc8305b0970",
        "colab": {
          "base_uri": "https://localhost:8080/",
          "height": 218
        }
      },
      "source": [
        "#import packages\n",
        "import keras\n",
        "from keras.datasets import cifar10\n",
        "from keras.models import Sequential\n",
        "from keras.layers import Dense, Dropout, Activation, Flatten\n",
        "from keras.utils import to_categorical\n",
        "\n",
        "#import dataset\n",
        "(X_train, y_train), (X_test, y_test) = cifar10.load_data()\n",
        "\n",
        "#change shape from image to vector\n",
        "X_train = X_train.reshape(50000, 32 * 32 * 3)\n",
        "X_test = X_test.reshape(10000, 32 * 32 * 3)\n",
        "\n",
        "#preprocess\n",
        "X_train = X_train.astype('float32')\n",
        "X_test = X_test.astype('float32')\n",
        "X_train /= 255.0\n",
        "X_test /= 255.0\n",
        "\n",
        "#change labels from numeric to one hot encoded\n",
        "Y_train = to_categorical(y_train, 10)\n",
        "Y_test =  to_categorical(y_test, 10)\n",
        "\n",
        "#Model building\n",
        "initializer = keras.initializers.glorot_uniform(seed=None)\n",
        "\n",
        "\n",
        "model = Sequential()\n",
        "model.add(Dense(1024, input_shape=(3072,), kernel_initializer=initializer, bias_initializer=initializer))\n",
        "model.add(Activation('relu'))\n",
        "model.add(Dense(512, kernel_initializer=initializer, bias_initializer=initializer))\n",
        "model.add(Activation('relu'))\n",
        "model.add(Dense(512, kernel_initializer=initializer, bias_initializer=initializer))\n",
        "model.add(Activation('relu'))\n",
        "model.add(Dense(10, kernel_initializer=initializer, bias_initializer=initializer))\n",
        "model.add(Activation('softmax'))\n",
        "\n",
        "model.compile(loss='categorical_crossentropy',\n",
        "                  optimizer='adam',\n",
        "                  metrics=['accuracy'])\n",
        "    \n",
        " \n",
        "\n",
        "# training\n",
        "history = model.fit(X_train, Y_train,\n",
        "                        batch_size=128,\n",
        "                        nb_epoch=5,\n",
        "                        verbose=1,\n",
        "                        validation_data=(X_test, Y_test))"
      ],
      "execution_count": 0,
      "outputs": [
        {
          "output_type": "stream",
          "text": [
            "/usr/local/lib/python3.6/dist-packages/ipykernel_launcher.py:49: UserWarning: The `nb_epoch` argument in `fit` has been renamed `epochs`.\n"
          ],
          "name": "stderr"
        },
        {
          "output_type": "stream",
          "text": [
            "Train on 50000 samples, validate on 10000 samples\n",
            "Epoch 1/5\n",
            "50000/50000 [==============================] - 6s 120us/step - loss: 1.8987 - acc: 0.3213 - val_loss: 1.7977 - val_acc: 0.3301\n",
            "Epoch 2/5\n",
            "50000/50000 [==============================] - 4s 88us/step - loss: 1.6706 - acc: 0.3993 - val_loss: 1.5880 - val_acc: 0.4334\n",
            "Epoch 3/5\n",
            "50000/50000 [==============================] - 4s 87us/step - loss: 1.5642 - acc: 0.4419 - val_loss: 1.5520 - val_acc: 0.4438\n",
            "Epoch 4/5\n",
            "50000/50000 [==============================] - 4s 88us/step - loss: 1.5084 - acc: 0.4601 - val_loss: 1.5223 - val_acc: 0.4447\n",
            "Epoch 5/5\n",
            "50000/50000 [==============================] - 4s 88us/step - loss: 1.4558 - acc: 0.4779 - val_loss: 1.4655 - val_acc: 0.4758\n"
          ],
          "name": "stdout"
        }
      ]
    },
    {
      "cell_type": "markdown",
      "metadata": {
        "id": "1F2aV9rJN0Ez",
        "colab_type": "text"
      },
      "source": [
        "#he_normal\n",
        "\n",
        "keras.initializers.he_normal(seed=None)\n",
        "\n",
        "He normal initializer.\n",
        "\n",
        "It draws samples from a truncated normal distribution centered on 0 with stddev = sqrt(2 / fan_in) where fan_in is the number of input units in the weight tensor.\n",
        "\n",
        "Arguments\n",
        "\n",
        "1. seed: A Python integer. Used to seed the random generator.\n",
        "\n",
        "Returns\n",
        "\n",
        "An initializer."
      ]
    },
    {
      "cell_type": "code",
      "metadata": {
        "id": "vUZJTErrN5nc",
        "colab_type": "code",
        "outputId": "1e7c879a-5ec5-4456-dacf-657effce4293",
        "colab": {
          "base_uri": "https://localhost:8080/",
          "height": 218
        }
      },
      "source": [
        "#import packages\n",
        "import keras\n",
        "from keras.datasets import cifar10\n",
        "from keras.models import Sequential\n",
        "from keras.layers import Dense, Dropout, Activation, Flatten\n",
        "from keras.utils import to_categorical\n",
        "\n",
        "#import dataset\n",
        "(X_train, y_train), (X_test, y_test) = cifar10.load_data()\n",
        "\n",
        "#change shape from image to vector\n",
        "X_train = X_train.reshape(50000, 32 * 32 * 3)\n",
        "X_test = X_test.reshape(10000, 32 * 32 * 3)\n",
        "\n",
        "#preprocess\n",
        "X_train = X_train.astype('float32')\n",
        "X_test = X_test.astype('float32')\n",
        "X_train /= 255.0\n",
        "X_test /= 255.0\n",
        "\n",
        "#change labels from numeric to one hot encoded\n",
        "Y_train = to_categorical(y_train, 10)\n",
        "Y_test =  to_categorical(y_test, 10)\n",
        "\n",
        "#Model building\n",
        "initializer = keras.initializers.he_normal(seed=None)\n",
        "\n",
        "\n",
        "\n",
        "\n",
        "model = Sequential()\n",
        "model.add(Dense(1024, input_shape=(3072,), kernel_initializer=initializer, bias_initializer=initializer))\n",
        "model.add(Activation('relu'))\n",
        "model.add(Dense(512, kernel_initializer=initializer, bias_initializer=initializer))\n",
        "model.add(Activation('relu'))\n",
        "model.add(Dense(512, kernel_initializer=initializer, bias_initializer=initializer))\n",
        "model.add(Activation('relu'))\n",
        "model.add(Dense(10, kernel_initializer=initializer, bias_initializer=initializer))\n",
        "model.add(Activation('softmax'))\n",
        "\n",
        "model.compile(loss='categorical_crossentropy',\n",
        "                  optimizer='adam',\n",
        "                  metrics=['accuracy'])\n",
        "    \n",
        " \n",
        "\n",
        "# training\n",
        "history = model.fit(X_train, Y_train,\n",
        "                        batch_size=128,\n",
        "                        nb_epoch=5,\n",
        "                        verbose=1,\n",
        "                        validation_data=(X_test, Y_test))"
      ],
      "execution_count": 0,
      "outputs": [
        {
          "output_type": "stream",
          "text": [
            "/usr/local/lib/python3.6/dist-packages/ipykernel_launcher.py:51: UserWarning: The `nb_epoch` argument in `fit` has been renamed `epochs`.\n"
          ],
          "name": "stderr"
        },
        {
          "output_type": "stream",
          "text": [
            "Train on 50000 samples, validate on 10000 samples\n",
            "Epoch 1/5\n",
            "50000/50000 [==============================] - 6s 121us/step - loss: 2.0272 - acc: 0.3144 - val_loss: 1.7418 - val_acc: 0.3703\n",
            "Epoch 2/5\n",
            "50000/50000 [==============================] - 4s 88us/step - loss: 1.6614 - acc: 0.4025 - val_loss: 1.5730 - val_acc: 0.4395\n",
            "Epoch 3/5\n",
            "50000/50000 [==============================] - 4s 88us/step - loss: 1.5635 - acc: 0.4405 - val_loss: 1.5963 - val_acc: 0.4291\n",
            "Epoch 4/5\n",
            "50000/50000 [==============================] - 4s 89us/step - loss: 1.5037 - acc: 0.4612 - val_loss: 1.4900 - val_acc: 0.4610\n",
            "Epoch 5/5\n",
            "50000/50000 [==============================] - 4s 88us/step - loss: 1.4510 - acc: 0.4818 - val_loss: 1.4787 - val_acc: 0.4670\n"
          ],
          "name": "stdout"
        }
      ]
    },
    {
      "cell_type": "markdown",
      "metadata": {
        "id": "2fjTgQ2-N6SU",
        "colab_type": "text"
      },
      "source": [
        "#lecun_normal\n",
        "\n",
        "keras.initializers.lecun_normal(seed=None)\n",
        "\n",
        "LeCun normal initializer.\n",
        "\n",
        "It draws samples from a truncated normal distribution centered on 0 with stddev = sqrt(1 / fan_in) where fan_in is the number of input units in the weight tensor.\n",
        "\n",
        "Arguments\n",
        "\n",
        "1. seed: A Python integer. Used to seed the random generator.\n",
        "\n",
        "Returns\n",
        "\n",
        "1. An initializer."
      ]
    },
    {
      "cell_type": "code",
      "metadata": {
        "id": "lB14_Gl7N6rA",
        "colab_type": "code",
        "outputId": "3bc1e401-9af2-4b2b-94b0-fc975c122c83",
        "colab": {
          "base_uri": "https://localhost:8080/",
          "height": 218
        }
      },
      "source": [
        "#import packages\n",
        "import keras\n",
        "from keras.datasets import cifar10\n",
        "from keras.models import Sequential\n",
        "from keras.layers import Dense, Dropout, Activation, Flatten\n",
        "from keras.utils import to_categorical\n",
        "\n",
        "#import dataset\n",
        "(X_train, y_train), (X_test, y_test) = cifar10.load_data()\n",
        "\n",
        "#change shape from image to vector\n",
        "X_train = X_train.reshape(50000, 32 * 32 * 3)\n",
        "X_test = X_test.reshape(10000, 32 * 32 * 3)\n",
        "\n",
        "#preprocess\n",
        "X_train = X_train.astype('float32')\n",
        "X_test = X_test.astype('float32')\n",
        "X_train /= 255.0\n",
        "X_test /= 255.0\n",
        "\n",
        "#change labels from numeric to one hot encoded\n",
        "Y_train = to_categorical(y_train, 10)\n",
        "Y_test =  to_categorical(y_test, 10)\n",
        "\n",
        "#Model building\n",
        "initializer = keras.initializers.lecun_normal(seed=None)\n",
        "\n",
        "\n",
        "model = Sequential()\n",
        "model.add(Dense(1024, input_shape=(3072,), kernel_initializer=initializer, bias_initializer=initializer))\n",
        "model.add(Activation('relu'))\n",
        "model.add(Dense(512, kernel_initializer=initializer, bias_initializer=initializer))\n",
        "model.add(Activation('relu'))\n",
        "model.add(Dense(512, kernel_initializer=initializer, bias_initializer=initializer))\n",
        "model.add(Activation('relu'))\n",
        "model.add(Dense(10, kernel_initializer=initializer, bias_initializer=initializer))\n",
        "model.add(Activation('softmax'))\n",
        "\n",
        "model.compile(loss='categorical_crossentropy',\n",
        "                  optimizer='adam',\n",
        "                  metrics=['accuracy'])\n",
        "    \n",
        " \n",
        "\n",
        "# training\n",
        "history = model.fit(X_train, Y_train,\n",
        "                        batch_size=128,\n",
        "                        nb_epoch=5,\n",
        "                        verbose=1,\n",
        "                        validation_data=(X_test, Y_test))"
      ],
      "execution_count": 0,
      "outputs": [
        {
          "output_type": "stream",
          "text": [
            "/usr/local/lib/python3.6/dist-packages/ipykernel_launcher.py:49: UserWarning: The `nb_epoch` argument in `fit` has been renamed `epochs`.\n"
          ],
          "name": "stderr"
        },
        {
          "output_type": "stream",
          "text": [
            "Train on 50000 samples, validate on 10000 samples\n",
            "Epoch 1/5\n",
            "50000/50000 [==============================] - 6s 123us/step - loss: 1.8766 - acc: 0.3185 - val_loss: 1.7260 - val_acc: 0.3746\n",
            "Epoch 2/5\n",
            "50000/50000 [==============================] - 4s 87us/step - loss: 1.6588 - acc: 0.4022 - val_loss: 1.5804 - val_acc: 0.4354\n",
            "Epoch 3/5\n",
            "50000/50000 [==============================] - 4s 89us/step - loss: 1.5640 - acc: 0.4390 - val_loss: 1.5525 - val_acc: 0.4399\n",
            "Epoch 4/5\n",
            "50000/50000 [==============================] - 4s 90us/step - loss: 1.5016 - acc: 0.4610 - val_loss: 1.4800 - val_acc: 0.4679\n",
            "Epoch 5/5\n",
            "50000/50000 [==============================] - 4s 88us/step - loss: 1.4594 - acc: 0.4771 - val_loss: 1.4792 - val_acc: 0.4714\n"
          ],
          "name": "stdout"
        }
      ]
    },
    {
      "cell_type": "markdown",
      "metadata": {
        "id": "GqMGiXtHN7Ba",
        "colab_type": "text"
      },
      "source": [
        "#he_uniform\n",
        "\n",
        "keras.initializers.he_uniform(seed=None)\n",
        "\n",
        "He uniform variance scaling initializer.\n",
        "\n",
        "It draws samples from a uniform distribution within [-limit, limit] where limit is sqrt(6 / fan_in) where fan_in is the number of input units in the weight tensor.\n",
        "\n",
        "Arguments\n",
        "\n",
        "1. seed: A Python integer. Used to seed the random generator.\n",
        "\n",
        "Returns\n",
        "\n",
        "An initializer."
      ]
    },
    {
      "cell_type": "code",
      "metadata": {
        "id": "60P1yxX6N7PU",
        "colab_type": "code",
        "outputId": "5503c12b-331d-4c9e-af00-4794841656a5",
        "colab": {
          "base_uri": "https://localhost:8080/",
          "height": 218
        }
      },
      "source": [
        "#import packages\n",
        "import keras\n",
        "from keras.datasets import cifar10\n",
        "from keras.models import Sequential\n",
        "from keras.layers import Dense, Dropout, Activation, Flatten\n",
        "from keras.utils import to_categorical\n",
        "\n",
        "#import dataset\n",
        "(X_train, y_train), (X_test, y_test) = cifar10.load_data()\n",
        "\n",
        "#change shape from image to vector\n",
        "X_train = X_train.reshape(50000, 32 * 32 * 3)\n",
        "X_test = X_test.reshape(10000, 32 * 32 * 3)\n",
        "\n",
        "#preprocess\n",
        "X_train = X_train.astype('float32')\n",
        "X_test = X_test.astype('float32')\n",
        "X_train /= 255.0\n",
        "X_test /= 255.0\n",
        "\n",
        "#change labels from numeric to one hot encoded\n",
        "Y_train = to_categorical(y_train, 10)\n",
        "Y_test =  to_categorical(y_test, 10)\n",
        "\n",
        "#Model building\n",
        "initializer = keras.initializers.he_uniform(seed=None)\n",
        "\n",
        "model = Sequential()\n",
        "model.add(Dense(1024, input_shape=(3072,), kernel_initializer=initializer, bias_initializer=initializer))\n",
        "model.add(Activation('relu'))\n",
        "model.add(Dense(512, kernel_initializer=initializer, bias_initializer=initializer))\n",
        "model.add(Activation('relu'))\n",
        "model.add(Dense(512, kernel_initializer=initializer, bias_initializer=initializer))\n",
        "model.add(Activation('relu'))\n",
        "model.add(Dense(10, kernel_initializer=initializer, bias_initializer=initializer))\n",
        "model.add(Activation('softmax'))\n",
        "\n",
        "model.compile(loss='categorical_crossentropy',\n",
        "                  optimizer='adam',\n",
        "                  metrics=['accuracy'])\n",
        "    \n",
        " \n",
        "\n",
        "# training\n",
        "history = model.fit(X_train, Y_train,\n",
        "                        batch_size=128,\n",
        "                        nb_epoch=5,\n",
        "                        verbose=1,\n",
        "                        validation_data=(X_test, Y_test))"
      ],
      "execution_count": 0,
      "outputs": [
        {
          "output_type": "stream",
          "text": [
            "/usr/local/lib/python3.6/dist-packages/ipykernel_launcher.py:48: UserWarning: The `nb_epoch` argument in `fit` has been renamed `epochs`.\n"
          ],
          "name": "stderr"
        },
        {
          "output_type": "stream",
          "text": [
            "Train on 50000 samples, validate on 10000 samples\n",
            "Epoch 1/5\n",
            "50000/50000 [==============================] - 6s 127us/step - loss: 2.0314 - acc: 0.3076 - val_loss: 1.7529 - val_acc: 0.3726\n",
            "Epoch 2/5\n",
            "50000/50000 [==============================] - 4s 89us/step - loss: 1.6732 - acc: 0.3994 - val_loss: 1.6260 - val_acc: 0.4217\n",
            "Epoch 3/5\n",
            "50000/50000 [==============================] - 4s 89us/step - loss: 1.5753 - acc: 0.4350 - val_loss: 1.5952 - val_acc: 0.4259\n",
            "Epoch 4/5\n",
            "50000/50000 [==============================] - 4s 89us/step - loss: 1.5152 - acc: 0.4585 - val_loss: 1.5485 - val_acc: 0.4410\n",
            "Epoch 5/5\n",
            "50000/50000 [==============================] - 5s 91us/step - loss: 1.4664 - acc: 0.4752 - val_loss: 1.4809 - val_acc: 0.4613\n"
          ],
          "name": "stdout"
        }
      ]
    },
    {
      "cell_type": "markdown",
      "metadata": {
        "id": "bHHeipq8N7oE",
        "colab_type": "text"
      },
      "source": [
        "#Thank you for completing this notebook"
      ]
    },
    {
      "cell_type": "markdown",
      "metadata": {
        "id": "Sm8EyCFXsaRg",
        "colab_type": "text"
      },
      "source": [
        "**he_normal** has the highest accuracy of 0.4818\n",
        "\n",
        "\n",
        "**lecun_uniform** has the highest validation accuracy of 0.4874"
      ]
    },
    {
      "cell_type": "markdown",
      "metadata": {
        "id": "9oeJ5J5FdZVJ",
        "colab_type": "text"
      },
      "source": [
        "1)\tBaseline model -  acc: 0.4753 , val_acc: 0.4754\n",
        "\n",
        "\n",
        "2)\tModel with Initializer as random uniform and zero - acc: 0.4775, val_acc: 0.4685\n",
        "\n",
        "\n",
        "3)\tModel with weights as one - acc: 0.1000 , val_acc: 0.1000\n",
        "\n",
        "\n",
        "4)\tModel initialized with constant values- acc: 0.0983, val_acc: 0.1000\n",
        "\n",
        "\n",
        "5)\tRandom Normal - acc: 0.4805 , val_acc: 0.4634\n",
        "\n",
        "\n",
        "6)\tRandom Uniform - acc: 0.4763 , val_acc: 0.4856\n",
        "\n",
        "\n",
        "7)\tTruncated Normal - acc: 0.4792 , val_acc: 0.4796\n",
        "\n",
        "\n",
        "8)\tVariance Scaling -  acc: 0.4808 , val_acc: 0.4777\n",
        "\n",
        "\n",
        "9)\tOrthogonal - acc: 0.1000 , val_acc: 0.1000\n",
        "\n",
        "\n",
        "10)\tIdentity - acc: 0.2548 , val_acc: 0.2471\n",
        "\n",
        "\n",
        "11)\tLecun_uniform - acc: 0.4773 , val_acc: 0.4874\n",
        "\n",
        "\n",
        "12)\tGlorot_normal - acc: 0.4789 , val_acc: 0.4778\n",
        "\n",
        "\n",
        "13)\tGlorot_uniform - acc: 0.4779 , val_acc: 0.4758\n",
        "\n",
        "\n",
        "14)\tHe_normal -  acc: 0.4818 , val_acc: 0.4670\n",
        "\n",
        "\n",
        "15)\tLecun_normal - acc: 0.4771 , val_acc: 0.4714\n",
        "\n",
        "\n",
        "16)\tHe_uniform - acc: 0.4752 , val_acc: 0.4613\n"
      ]
    },
    {
      "cell_type": "code",
      "metadata": {
        "id": "6CQg0boWHO1C",
        "colab_type": "code",
        "outputId": "21006540-1e67-403c-c0b1-122565c6befa",
        "colab": {
          "base_uri": "https://localhost:8080/",
          "height": 386
        }
      },
      "source": [
        "import keras\n",
        "from keras import models\n",
        "from keras.layers import Dense, Dropout\n",
        "from keras.utils import to_categorical\n",
        "from keras.datasets import fashion_mnist\n",
        "from keras.utils.vis_utils import model_to_dot\n",
        "\n",
        "NUM_ROWS = 28\n",
        "NUM_COLS = 28\n",
        "NUM_CLASSES = 10\n",
        "BATCH_SIZE = 128\n",
        "EPOCHS = 10\n",
        "\n",
        "# Load data\n",
        "(X_train, Y_train), (X_test, Y_test) = fashion_mnist.load_data()\n",
        "\n",
        "\n",
        "\n",
        "# Reshape data\n",
        "X_train = X_train.reshape((X_train.shape[0], NUM_ROWS * NUM_COLS))\n",
        "X_train = X_train.astype('float32') / 255\n",
        "X_test = X_test.reshape((X_test.shape[0], NUM_ROWS * NUM_COLS))\n",
        "X_test = X_test.astype('float32') / 255\n",
        "\n",
        "# Categorically encode labels\n",
        "Y_train = to_categorical(Y_train, NUM_CLASSES)\n",
        "Y_test = to_categorical(Y_test, NUM_CLASSES)\n",
        "#Model building\n",
        "initializer = keras.initializers.lecun_uniform(seed=None)\n",
        "\n",
        "model = Sequential()\n",
        "model.add(Dense(1024, input_shape=(NUM_ROWS * NUM_COLS,), kernel_initializer=initializer, bias_initializer=initializer))\n",
        "model.add(Activation('relu'))\n",
        "model.add(Dense(512, kernel_initializer=initializer, bias_initializer=initializer))\n",
        "model.add(Activation('relu'))\n",
        "model.add(Dense(512, kernel_initializer=initializer, bias_initializer=initializer))\n",
        "model.add(Activation('relu'))\n",
        "model.add(Dense(10, kernel_initializer=initializer, bias_initializer=initializer))\n",
        "model.add(Activation('softmax'))\n",
        "\n",
        "model.compile(loss='categorical_crossentropy',\n",
        "                  optimizer='adam',\n",
        "                  metrics=['accuracy'])\n",
        "    \n",
        " \n",
        "\n",
        "# training\n",
        "history = model.fit(X_train, Y_train,\n",
        "                        batch_size=128,\n",
        "                        nb_epoch=10,\n",
        "                        verbose=1,\n",
        "                        validation_data=(X_test, Y_test))"
      ],
      "execution_count": 0,
      "outputs": [
        {
          "output_type": "stream",
          "text": [
            "/usr/local/lib/python3.6/dist-packages/ipykernel_launcher.py:52: UserWarning: The `nb_epoch` argument in `fit` has been renamed `epochs`.\n"
          ],
          "name": "stderr"
        },
        {
          "output_type": "stream",
          "text": [
            "Train on 60000 samples, validate on 10000 samples\n",
            "Epoch 1/10\n",
            "60000/60000 [==============================] - 5s 76us/step - loss: 0.4733 - acc: 0.8267 - val_loss: 0.4032 - val_acc: 0.8530\n",
            "Epoch 2/10\n",
            "60000/60000 [==============================] - 4s 68us/step - loss: 0.3486 - acc: 0.8711 - val_loss: 0.3821 - val_acc: 0.8637\n",
            "Epoch 3/10\n",
            "60000/60000 [==============================] - 4s 68us/step - loss: 0.3145 - acc: 0.8820 - val_loss: 0.3800 - val_acc: 0.8662\n",
            "Epoch 4/10\n",
            "60000/60000 [==============================] - 4s 67us/step - loss: 0.2897 - acc: 0.8922 - val_loss: 0.3671 - val_acc: 0.8656\n",
            "Epoch 5/10\n",
            "60000/60000 [==============================] - 4s 67us/step - loss: 0.2704 - acc: 0.8976 - val_loss: 0.3337 - val_acc: 0.8781\n",
            "Epoch 6/10\n",
            "60000/60000 [==============================] - 4s 67us/step - loss: 0.2551 - acc: 0.9040 - val_loss: 0.3437 - val_acc: 0.8751\n",
            "Epoch 7/10\n",
            "60000/60000 [==============================] - 4s 67us/step - loss: 0.2421 - acc: 0.9084 - val_loss: 0.3172 - val_acc: 0.8892\n",
            "Epoch 8/10\n",
            "60000/60000 [==============================] - 4s 67us/step - loss: 0.2316 - acc: 0.9114 - val_loss: 0.3332 - val_acc: 0.8815\n",
            "Epoch 9/10\n",
            "60000/60000 [==============================] - 4s 67us/step - loss: 0.2204 - acc: 0.9164 - val_loss: 0.3283 - val_acc: 0.8886\n",
            "Epoch 10/10\n",
            "60000/60000 [==============================] - 4s 66us/step - loss: 0.2093 - acc: 0.9191 - val_loss: 0.3852 - val_acc: 0.8687\n"
          ],
          "name": "stdout"
        }
      ]
    },
    {
      "cell_type": "code",
      "metadata": {
        "id": "DDtjnQLyYbfA",
        "colab_type": "code",
        "outputId": "c521a957-5ffc-47c7-e471-adec3426d37a",
        "colab": {
          "base_uri": "https://localhost:8080/",
          "height": 386
        }
      },
      "source": [
        "import pandas\n",
        "from keras.models import Sequential\n",
        "from keras.layers import Dense\n",
        "from keras.wrappers.scikit_learn import KerasClassifier\n",
        "from keras.utils import np_utils\n",
        "from sklearn.model_selection import cross_val_score\n",
        "from sklearn.model_selection import KFold\n",
        "from sklearn.preprocessing import LabelEncoder\n",
        "from sklearn.pipeline import Pipeline\n",
        "from sklearn.datasets import load_iris\n",
        "from sklearn.model_selection import train_test_split\n",
        "from sklearn.preprocessing import OneHotEncoder\n",
        "\n",
        "iris_data = load_iris()\n",
        "\t\n",
        "x = iris_data.data\n",
        "y_ = iris_data.target.reshape(-1, 1) # Convert data to a single column\n",
        "\n",
        "# One Hot encode the class labels\n",
        "encoder = OneHotEncoder(sparse=False)\n",
        "y = encoder.fit_transform(y_)\n",
        "\n",
        "\n",
        "# Split the data for training and testing\n",
        "train_x, test_x, train_y, test_y = train_test_split(x, y, test_size=0.01)\n",
        "\n",
        "initializer = keras.initializers.lecun_uniform(seed=None)\n",
        "\n",
        "\n",
        "model = Sequential()\n",
        "\n",
        "model.add(Dense(10, input_shape=(4,),kernel_initializer=initializer, bias_initializer=initializer, activation='relu'))\n",
        "model.add(Dense(10, kernel_initializer=initializer, bias_initializer=initializer,activation='relu'))\n",
        "model.add(Dense(3,kernel_initializer=initializer, bias_initializer=initializer, activation='softmax'))\n",
        "\n",
        "model.compile(loss='categorical_crossentropy',\n",
        "                  optimizer='adam',\n",
        "                  metrics=['accuracy'])\n",
        "    \n",
        " \n",
        "\n",
        "# training\n",
        "history = model.fit(train_x, train_y,\n",
        "                        batch_size=5,\n",
        "                        nb_epoch=10,\n",
        "                        verbose=2,\n",
        "                        validation_data=(test_x, test_y))"
      ],
      "execution_count": 0,
      "outputs": [
        {
          "output_type": "stream",
          "text": [
            "/usr/local/lib/python3.6/dist-packages/ipykernel_launcher.py:47: UserWarning: The `nb_epoch` argument in `fit` has been renamed `epochs`.\n"
          ],
          "name": "stderr"
        },
        {
          "output_type": "stream",
          "text": [
            "Train on 148 samples, validate on 2 samples\n",
            "Epoch 1/10\n",
            " - 1s - loss: 1.2996 - acc: 0.3108 - val_loss: 1.8695 - val_acc: 0.0000e+00\n",
            "Epoch 2/10\n",
            " - 0s - loss: 1.1931 - acc: 0.2905 - val_loss: 1.4122 - val_acc: 0.0000e+00\n",
            "Epoch 3/10\n",
            " - 0s - loss: 1.1187 - acc: 0.2973 - val_loss: 1.1475 - val_acc: 0.0000e+00\n",
            "Epoch 4/10\n",
            " - 0s - loss: 1.0553 - acc: 0.4324 - val_loss: 1.0278 - val_acc: 1.0000\n",
            "Epoch 5/10\n",
            " - 0s - loss: 0.9831 - acc: 0.6757 - val_loss: 1.0037 - val_acc: 1.0000\n",
            "Epoch 6/10\n",
            " - 0s - loss: 0.8665 - acc: 0.7568 - val_loss: 0.9491 - val_acc: 0.5000\n",
            "Epoch 7/10\n",
            " - 0s - loss: 0.7457 - acc: 0.7230 - val_loss: 0.9118 - val_acc: 0.5000\n",
            "Epoch 8/10\n",
            " - 0s - loss: 0.6627 - acc: 0.7635 - val_loss: 0.8489 - val_acc: 1.0000\n",
            "Epoch 9/10\n",
            " - 0s - loss: 0.5995 - acc: 0.8108 - val_loss: 0.7369 - val_acc: 1.0000\n",
            "Epoch 10/10\n",
            " - 0s - loss: 0.5567 - acc: 0.8311 - val_loss: 0.7592 - val_acc: 1.0000\n"
          ],
          "name": "stdout"
        }
      ]
    }
  ]
}